{
  "nbformat": 4,
  "nbformat_minor": 0,
  "metadata": {
    "colab": {
      "name": "Tiny_Imagenet-54.8-val_acc.ipynb",
      "version": "0.3.2",
      "provenance": [],
      "collapsed_sections": []
    },
    "kernelspec": {
      "name": "python3",
      "display_name": "Python 3"
    },
    "accelerator": "GPU"
  },
  "cells": [
    {
      "cell_type": "code",
      "metadata": {
        "id": "MVOKF130AEvK",
        "colab_type": "code",
        "outputId": "bacd7a4c-1d12-4573-dc56-65e4b6d533d4",
        "colab": {
          "base_uri": "https://localhost:8080/",
          "height": 904
        }
      },
      "source": [
        "# https://keras.io/\n",
        "!pip install -q keras\n",
        "!pip install six numpy scipy Pillow matplotlib scikit-image opencv-python imageio Shapely\n",
        "!pip install imgaug\n",
        "!pip install --upgrade scikit-image\n",
        "\n",
        "import keras\n",
        "from keras.models import Model, Sequential\n",
        "from keras.layers import Dense, Dropout, Flatten, Input, AveragePooling2D, merge, Activation, GlobalAveragePooling2D\n",
        "from keras.layers import Conv2D, MaxPooling2D, BatchNormalization\n",
        "from keras.layers import Concatenate, GlobalAveragePooling2D\n",
        "from keras.optimizers import Adam, SGD\n",
        "from keras.layers.advanced_activations import LeakyReLU\n",
        "from keras.layers import Reshape, Activation, Conv2D, Input, MaxPooling2D, BatchNormalization, Lambda, SeparableConv2D\n",
        "from keras.layers.merge import concatenate\n",
        "from keras.activations import relu, softmax\n",
        "from keras.callbacks import *\n",
        "from imgaug import augmenters as iaa\n",
        "\n",
        "# this part will prevent tensorflow to allocate all the avaliable GPU Memory\n",
        "# backend\n",
        "import tensorflow as tf\n",
        "from keras import backend as K\n",
        "\n",
        "# Don't pre-allocate memory; allocate as-needed\n",
        "config = tf.ConfigProto()\n",
        "config.gpu_options.allow_growth = True\n",
        "\n",
        "# Create a session with the above options specified.\n",
        "K.tensorflow_backend.set_session(tf.Session(config=config))\n"
      ],
      "execution_count": 0,
      "outputs": [
        {
          "output_type": "stream",
          "text": [
            "Requirement already satisfied: six in /usr/local/lib/python3.6/dist-packages (1.11.0)\n",
            "Requirement already satisfied: numpy in /usr/local/lib/python3.6/dist-packages (1.16.2)\n",
            "Requirement already satisfied: scipy in /usr/local/lib/python3.6/dist-packages (1.1.0)\n",
            "Requirement already satisfied: Pillow in /usr/local/lib/python3.6/dist-packages (6.0.0)\n",
            "Requirement already satisfied: matplotlib in /usr/local/lib/python3.6/dist-packages (3.0.3)\n",
            "Requirement already satisfied: scikit-image in /usr/local/lib/python3.6/dist-packages (0.15.0)\n",
            "Requirement already satisfied: opencv-python in /usr/local/lib/python3.6/dist-packages (3.4.5.20)\n",
            "Requirement already satisfied: imageio in /usr/local/lib/python3.6/dist-packages (2.4.1)\n",
            "Requirement already satisfied: Shapely in /usr/local/lib/python3.6/dist-packages (1.6.4.post2)\n",
            "Requirement already satisfied: kiwisolver>=1.0.1 in /usr/local/lib/python3.6/dist-packages (from matplotlib) (1.0.1)\n",
            "Requirement already satisfied: cycler>=0.10 in /usr/local/lib/python3.6/dist-packages (from matplotlib) (0.10.0)\n",
            "Requirement already satisfied: pyparsing!=2.0.4,!=2.1.2,!=2.1.6,>=2.0.1 in /usr/local/lib/python3.6/dist-packages (from matplotlib) (2.3.1)\n",
            "Requirement already satisfied: python-dateutil>=2.1 in /usr/local/lib/python3.6/dist-packages (from matplotlib) (2.5.3)\n",
            "Requirement already satisfied: PyWavelets>=0.4.0 in /usr/local/lib/python3.6/dist-packages (from scikit-image) (1.0.2)\n",
            "Requirement already satisfied: networkx>=2.0 in /usr/local/lib/python3.6/dist-packages (from scikit-image) (2.2)\n",
            "Requirement already satisfied: setuptools in /usr/local/lib/python3.6/dist-packages (from kiwisolver>=1.0.1->matplotlib) (40.9.0)\n",
            "Requirement already satisfied: decorator>=4.3.0 in /usr/local/lib/python3.6/dist-packages (from networkx>=2.0->scikit-image) (4.4.0)\n",
            "Requirement already satisfied: imgaug in /usr/local/lib/python3.6/dist-packages (0.2.8)\n",
            "Requirement already satisfied: matplotlib in /usr/local/lib/python3.6/dist-packages (from imgaug) (3.0.3)\n",
            "Requirement already satisfied: numpy>=1.15.0 in /usr/local/lib/python3.6/dist-packages (from imgaug) (1.16.2)\n",
            "Requirement already satisfied: scipy in /usr/local/lib/python3.6/dist-packages (from imgaug) (1.1.0)\n",
            "Requirement already satisfied: imageio in /usr/local/lib/python3.6/dist-packages (from imgaug) (2.4.1)\n",
            "Requirement already satisfied: Pillow in /usr/local/lib/python3.6/dist-packages (from imgaug) (6.0.0)\n",
            "Requirement already satisfied: six in /usr/local/lib/python3.6/dist-packages (from imgaug) (1.11.0)\n",
            "Requirement already satisfied: Shapely in /usr/local/lib/python3.6/dist-packages (from imgaug) (1.6.4.post2)\n",
            "Requirement already satisfied: scikit-image>=0.11.0 in /usr/local/lib/python3.6/dist-packages (from imgaug) (0.15.0)\n",
            "Requirement already satisfied: opencv-python in /usr/local/lib/python3.6/dist-packages (from imgaug) (3.4.5.20)\n",
            "Requirement already satisfied: python-dateutil>=2.1 in /usr/local/lib/python3.6/dist-packages (from matplotlib->imgaug) (2.5.3)\n",
            "Requirement already satisfied: pyparsing!=2.0.4,!=2.1.2,!=2.1.6,>=2.0.1 in /usr/local/lib/python3.6/dist-packages (from matplotlib->imgaug) (2.3.1)\n",
            "Requirement already satisfied: kiwisolver>=1.0.1 in /usr/local/lib/python3.6/dist-packages (from matplotlib->imgaug) (1.0.1)\n",
            "Requirement already satisfied: cycler>=0.10 in /usr/local/lib/python3.6/dist-packages (from matplotlib->imgaug) (0.10.0)\n",
            "Requirement already satisfied: PyWavelets>=0.4.0 in /usr/local/lib/python3.6/dist-packages (from scikit-image>=0.11.0->imgaug) (1.0.2)\n",
            "Requirement already satisfied: networkx>=2.0 in /usr/local/lib/python3.6/dist-packages (from scikit-image>=0.11.0->imgaug) (2.2)\n",
            "Requirement already satisfied: setuptools in /usr/local/lib/python3.6/dist-packages (from kiwisolver>=1.0.1->matplotlib->imgaug) (40.9.0)\n",
            "Requirement already satisfied: decorator>=4.3.0 in /usr/local/lib/python3.6/dist-packages (from networkx>=2.0->scikit-image>=0.11.0->imgaug) (4.4.0)\n",
            "Requirement already up-to-date: scikit-image in /usr/local/lib/python3.6/dist-packages (0.15.0)\n",
            "Requirement already satisfied, skipping upgrade: networkx>=2.0 in /usr/local/lib/python3.6/dist-packages (from scikit-image) (2.2)\n",
            "Requirement already satisfied, skipping upgrade: scipy>=0.17.0 in /usr/local/lib/python3.6/dist-packages (from scikit-image) (1.1.0)\n",
            "Requirement already satisfied, skipping upgrade: matplotlib!=3.0.0,>=2.0.0 in /usr/local/lib/python3.6/dist-packages (from scikit-image) (3.0.3)\n",
            "Requirement already satisfied, skipping upgrade: imageio>=2.0.1 in /usr/local/lib/python3.6/dist-packages (from scikit-image) (2.4.1)\n",
            "Requirement already satisfied, skipping upgrade: PyWavelets>=0.4.0 in /usr/local/lib/python3.6/dist-packages (from scikit-image) (1.0.2)\n",
            "Requirement already satisfied, skipping upgrade: pillow>=4.3.0 in /usr/local/lib/python3.6/dist-packages (from scikit-image) (6.0.0)\n",
            "Requirement already satisfied, skipping upgrade: decorator>=4.3.0 in /usr/local/lib/python3.6/dist-packages (from networkx>=2.0->scikit-image) (4.4.0)\n",
            "Requirement already satisfied, skipping upgrade: numpy>=1.8.2 in /usr/local/lib/python3.6/dist-packages (from scipy>=0.17.0->scikit-image) (1.16.2)\n",
            "Requirement already satisfied, skipping upgrade: kiwisolver>=1.0.1 in /usr/local/lib/python3.6/dist-packages (from matplotlib!=3.0.0,>=2.0.0->scikit-image) (1.0.1)\n",
            "Requirement already satisfied, skipping upgrade: cycler>=0.10 in /usr/local/lib/python3.6/dist-packages (from matplotlib!=3.0.0,>=2.0.0->scikit-image) (0.10.0)\n",
            "Requirement already satisfied, skipping upgrade: python-dateutil>=2.1 in /usr/local/lib/python3.6/dist-packages (from matplotlib!=3.0.0,>=2.0.0->scikit-image) (2.5.3)\n",
            "Requirement already satisfied, skipping upgrade: pyparsing!=2.0.4,!=2.1.2,!=2.1.6,>=2.0.1 in /usr/local/lib/python3.6/dist-packages (from matplotlib!=3.0.0,>=2.0.0->scikit-image) (2.3.1)\n",
            "Requirement already satisfied, skipping upgrade: setuptools in /usr/local/lib/python3.6/dist-packages (from kiwisolver>=1.0.1->matplotlib!=3.0.0,>=2.0.0->scikit-image) (40.9.0)\n",
            "Requirement already satisfied, skipping upgrade: six in /usr/local/lib/python3.6/dist-packages (from cycler>=0.10->matplotlib!=3.0.0,>=2.0.0->scikit-image) (1.11.0)\n"
          ],
          "name": "stdout"
        },
        {
          "output_type": "stream",
          "text": [
            "Using TensorFlow backend.\n"
          ],
          "name": "stderr"
        }
      ]
    },
    {
      "cell_type": "code",
      "metadata": {
        "id": "izDDNrzs12yA",
        "colab_type": "code",
        "outputId": "abf5e464-580c-400c-bfa8-db36a3ff03cb",
        "colab": {
          "base_uri": "https://localhost:8080/",
          "height": 122
        }
      },
      "source": [
        "from google.colab import drive\n",
        "drive.mount('/content/gdrive')"
      ],
      "execution_count": 0,
      "outputs": [
        {
          "output_type": "stream",
          "text": [
            "Go to this URL in a browser: https://accounts.google.com/o/oauth2/auth?client_id=947318989803-6bn6qk8qdgf4n4g3pfee6491hc0brc4i.apps.googleusercontent.com&redirect_uri=urn%3Aietf%3Awg%3Aoauth%3A2.0%3Aoob&scope=email%20https%3A%2F%2Fwww.googleapis.com%2Fauth%2Fdocs.test%20https%3A%2F%2Fwww.googleapis.com%2Fauth%2Fdrive%20https%3A%2F%2Fwww.googleapis.com%2Fauth%2Fdrive.photos.readonly%20https%3A%2F%2Fwww.googleapis.com%2Fauth%2Fpeopleapi.readonly&response_type=code\n",
            "\n",
            "Enter your authorization code:\n",
            "··········\n",
            "Mounted at /content/gdrive\n"
          ],
          "name": "stdout"
        }
      ]
    },
    {
      "cell_type": "code",
      "metadata": {
        "id": "MBLCZhiOe51s",
        "colab_type": "code",
        "outputId": "908e1f45-cbee-490a-b837-3dc0a2daff6d",
        "colab": {
          "base_uri": "https://localhost:8080/",
          "height": 51
        }
      },
      "source": [
        "!ls\n",
        "!unzip -qq \"/content/gdrive/My Drive/Datasets/tiny-imagenet-200.zip\"\n",
        "!ls"
      ],
      "execution_count": 0,
      "outputs": [
        {
          "output_type": "stream",
          "text": [
            "gdrive\tsample_data\n",
            "gdrive\tsample_data  tiny-imagenet-200\n"
          ],
          "name": "stdout"
        }
      ]
    },
    {
      "cell_type": "code",
      "metadata": {
        "id": "7l_PCFURg9x_",
        "colab_type": "code",
        "colab": {}
      },
      "source": [
        "import numpy as np\n",
        "import pandas as pd\n",
        "import tensorflow as tf\n",
        "\n",
        "import matplotlib.pyplot as plt\n",
        "%matplotlib  inline\n",
        "from keras.preprocessing.image import ImageDataGenerator"
      ],
      "execution_count": 0,
      "outputs": []
    },
    {
      "cell_type": "code",
      "metadata": {
        "id": "r7SjAhI2Jskn",
        "colab_type": "code",
        "outputId": "07a802b4-dcdc-44d7-e194-61bf70a2c0d2",
        "colab": {
          "base_uri": "https://localhost:8080/",
          "height": 142
        }
      },
      "source": [
        "val_data = pd.read_csv('./tiny-imagenet-200/val/val_annotations.txt', sep='\\t', header=None, names=['File', 'Class', 'X', 'Y', 'H', 'W'])\n",
        "val_data.drop(['X', 'Y', 'H', 'W'], axis=1, inplace=True)\n",
        "val_data.head(3)"
      ],
      "execution_count": 0,
      "outputs": [
        {
          "output_type": "execute_result",
          "data": {
            "text/html": [
              "<div>\n",
              "<style scoped>\n",
              "    .dataframe tbody tr th:only-of-type {\n",
              "        vertical-align: middle;\n",
              "    }\n",
              "\n",
              "    .dataframe tbody tr th {\n",
              "        vertical-align: top;\n",
              "    }\n",
              "\n",
              "    .dataframe thead th {\n",
              "        text-align: right;\n",
              "    }\n",
              "</style>\n",
              "<table border=\"1\" class=\"dataframe\">\n",
              "  <thead>\n",
              "    <tr style=\"text-align: right;\">\n",
              "      <th></th>\n",
              "      <th>File</th>\n",
              "      <th>Class</th>\n",
              "    </tr>\n",
              "  </thead>\n",
              "  <tbody>\n",
              "    <tr>\n",
              "      <th>0</th>\n",
              "      <td>val_0.JPEG</td>\n",
              "      <td>n03444034</td>\n",
              "    </tr>\n",
              "    <tr>\n",
              "      <th>1</th>\n",
              "      <td>val_1.JPEG</td>\n",
              "      <td>n04067472</td>\n",
              "    </tr>\n",
              "    <tr>\n",
              "      <th>2</th>\n",
              "      <td>val_2.JPEG</td>\n",
              "      <td>n04070727</td>\n",
              "    </tr>\n",
              "  </tbody>\n",
              "</table>\n",
              "</div>"
            ],
            "text/plain": [
              "         File      Class\n",
              "0  val_0.JPEG  n03444034\n",
              "1  val_1.JPEG  n04067472\n",
              "2  val_2.JPEG  n04070727"
            ]
          },
          "metadata": {
            "tags": []
          },
          "execution_count": 5
        }
      ]
    },
    {
      "cell_type": "code",
      "metadata": {
        "id": "wRYLyZtwKKDp",
        "colab_type": "code",
        "colab": {}
      },
      "source": [
        "# Use Augmentaion parameters as required.\n",
        "train_datagen = ImageDataGenerator(rescale= 1./255)\n",
        "valid_datagen = ImageDataGenerator(rescale=1./255)"
      ],
      "execution_count": 0,
      "outputs": []
    },
    {
      "cell_type": "code",
      "metadata": {
        "id": "igYtU_VSKXto",
        "colab_type": "code",
        "outputId": "fb9bc4a3-71d4-4fbd-89ec-8f1aff5383c2",
        "colab": {
          "base_uri": "https://localhost:8080/",
          "height": 34
        }
      },
      "source": [
        "train_generator = train_datagen.flow_from_directory( r'./tiny-imagenet-200/train/', target_size=(32, 32), color_mode='rgb', \n",
        "                                                    batch_size=256, class_mode='categorical', shuffle=True, seed=42)"
      ],
      "execution_count": 0,
      "outputs": [
        {
          "output_type": "stream",
          "text": [
            "Found 100000 images belonging to 200 classes.\n"
          ],
          "name": "stdout"
        }
      ]
    },
    {
      "cell_type": "code",
      "metadata": {
        "id": "UBRfC4SdKbca",
        "colab_type": "code",
        "outputId": "738e7dae-3af9-44d0-d831-57f3ea4a0ce0",
        "colab": {
          "base_uri": "https://localhost:8080/",
          "height": 34
        }
      },
      "source": [
        "validation_generator = valid_datagen.flow_from_dataframe(val_data, directory='./tiny-imagenet-200/val/images/', x_col='File', y_col='Class', target_size=(64, 64),\n",
        "                                                    color_mode='rgb', class_mode='categorical', batch_size=256, shuffle=True, seed=42)"
      ],
      "execution_count": 0,
      "outputs": [
        {
          "output_type": "stream",
          "text": [
            "Found 10000 images belonging to 200 classes.\n"
          ],
          "name": "stdout"
        }
      ]
    },
    {
      "cell_type": "code",
      "metadata": {
        "id": "76dcQRNJIcmQ",
        "colab_type": "code",
        "outputId": "c4e7c492-d4cb-4540-f610-b4e150c74804",
        "colab": {
          "base_uri": "https://localhost:8080/",
          "height": 88
        }
      },
      "source": [
        "input = Input(shape=(None, None, 3))\n",
        "\n",
        "norm1 = BatchNormalization(name='norm1')(input)\n",
        "conv1 = Conv2D(32, (3,3), activation='relu', name='conv1', use_bias=False, padding='same')(norm1) # 3 \n",
        "\n",
        "norm2 = BatchNormalization(name='norm2')(conv1)\n",
        "conv2 = Conv2D(128, (3,3), activation='relu', name='conv2', use_bias=False, padding='same')(norm2) # 5\n",
        "\n",
        "skip11 = concatenate([conv1, conv2])\n",
        "\n",
        "norm3 = BatchNormalization(name='norm3')(skip11)\n",
        "conv3 = Conv2D(512, (3,3), activation='relu', name='conv3', use_bias=False, padding='same')(norm3) # 7\n",
        "\n",
        "norm1x1_1 = BatchNormalization(name='norm1x1_1')(conv3)\n",
        "conv1x1_1 = Conv2D(64, (1,1), activation='relu', name='conv1x1_1', use_bias=False, padding='same')(norm1x1_1) # 18\n",
        "\n",
        "pool1 = MaxPooling2D(pool_size=(2,2))(conv1x1_1) # 14\n",
        "\n",
        "norm4 = BatchNormalization(name='norm4')(pool1)\n",
        "conv4 = Conv2D(64, (5,5), activation='relu', name='conv4', use_bias=False, padding='same')(norm4) # 18\n",
        "\n",
        "norm5 = BatchNormalization(name='norm5')(conv4)\n",
        "conv5 = Conv2D(256, (5,5), activation='relu', name='conv5', use_bias=False, padding='same')(norm5) # 22\n",
        "\n",
        "skip21 = concatenate([conv4, conv5])\n",
        "\n",
        "norm6 = BatchNormalization(name='norm6')(skip21)\n",
        "conv6 = Conv2D(1024, (5,5), activation='relu', name='conv6', use_bias=False, padding='same')(norm6) # 26\n",
        "\n",
        "norm1x1_2 = BatchNormalization(name='norm1x1_2')(conv6)\n",
        "conv1x1_2 = Conv2D(128, (1,1), activation='relu', name='conv1x1_2', use_bias=False, padding='same')(norm1x1_2) # 26\n",
        "\n",
        "pool2 = MaxPooling2D(pool_size=(2,2))(conv1x1_2) # 52\n",
        "\n",
        "norm7 = BatchNormalization(name='norm7')(pool2)\n",
        "conv7 = Conv2D(128, (5,5), activation='relu', name='conv7', use_bias=False, padding='same')(norm7) # 56\n",
        "\n",
        "norm8 = BatchNormalization(name='norm8')(conv7)\n",
        "conv8 = Conv2D(512, (5,5), activation='relu', name='conv8', use_bias=False, padding='same')(norm8) # 60\n",
        "\n",
        "skip31 = concatenate([conv7, conv8])\n",
        "\n",
        "norm9 = BatchNormalization(name='norm9')(skip31)\n",
        "conv9 = SeparableConv2D(2048, (5,5), activation='relu', name='conv9', use_bias=False, padding='same')(norm9) # 64\n",
        "\n",
        "norm10 = BatchNormalization(name='norm10')(conv9)\n",
        "conv10 = Conv2D(200, (1,1), activation='relu', name='conv10', use_bias=False, padding='same')(norm10)\n",
        "\n",
        "pool3 = GlobalAveragePooling2D()(conv10)\n",
        "output = Activation(softmax)(pool3)"
      ],
      "execution_count": 0,
      "outputs": [
        {
          "output_type": "stream",
          "text": [
            "WARNING:tensorflow:From /usr/local/lib/python3.6/dist-packages/tensorflow/python/framework/op_def_library.py:263: colocate_with (from tensorflow.python.framework.ops) is deprecated and will be removed in a future version.\n",
            "Instructions for updating:\n",
            "Colocations handled automatically by placer.\n"
          ],
          "name": "stdout"
        }
      ]
    },
    {
      "cell_type": "code",
      "metadata": {
        "id": "ssOdOGJQmnSm",
        "colab_type": "code",
        "outputId": "aba39d27-7395-47e9-ad73-d831058ea4fd",
        "colab": {
          "base_uri": "https://localhost:8080/",
          "height": 1275
        }
      },
      "source": [
        "model = Model(inputs=[input], outputs=[output])\n",
        "model.summary()"
      ],
      "execution_count": 0,
      "outputs": [
        {
          "output_type": "stream",
          "text": [
            "__________________________________________________________________________________________________\n",
            "Layer (type)                    Output Shape         Param #     Connected to                     \n",
            "==================================================================================================\n",
            "input_1 (InputLayer)            (None, None, None, 3 0                                            \n",
            "__________________________________________________________________________________________________\n",
            "norm1 (BatchNormalization)      (None, None, None, 3 12          input_1[0][0]                    \n",
            "__________________________________________________________________________________________________\n",
            "conv1 (Conv2D)                  (None, None, None, 3 864         norm1[0][0]                      \n",
            "__________________________________________________________________________________________________\n",
            "norm2 (BatchNormalization)      (None, None, None, 3 128         conv1[0][0]                      \n",
            "__________________________________________________________________________________________________\n",
            "conv2 (Conv2D)                  (None, None, None, 1 36864       norm2[0][0]                      \n",
            "__________________________________________________________________________________________________\n",
            "concatenate_1 (Concatenate)     (None, None, None, 1 0           conv1[0][0]                      \n",
            "                                                                 conv2[0][0]                      \n",
            "__________________________________________________________________________________________________\n",
            "norm3 (BatchNormalization)      (None, None, None, 1 640         concatenate_1[0][0]              \n",
            "__________________________________________________________________________________________________\n",
            "conv3 (Conv2D)                  (None, None, None, 5 737280      norm3[0][0]                      \n",
            "__________________________________________________________________________________________________\n",
            "norm1x1_1 (BatchNormalization)  (None, None, None, 5 2048        conv3[0][0]                      \n",
            "__________________________________________________________________________________________________\n",
            "conv1x1_1 (Conv2D)              (None, None, None, 6 32768       norm1x1_1[0][0]                  \n",
            "__________________________________________________________________________________________________\n",
            "max_pooling2d_1 (MaxPooling2D)  (None, None, None, 6 0           conv1x1_1[0][0]                  \n",
            "__________________________________________________________________________________________________\n",
            "norm4 (BatchNormalization)      (None, None, None, 6 256         max_pooling2d_1[0][0]            \n",
            "__________________________________________________________________________________________________\n",
            "conv4 (Conv2D)                  (None, None, None, 6 102400      norm4[0][0]                      \n",
            "__________________________________________________________________________________________________\n",
            "norm5 (BatchNormalization)      (None, None, None, 6 256         conv4[0][0]                      \n",
            "__________________________________________________________________________________________________\n",
            "conv5 (Conv2D)                  (None, None, None, 2 409600      norm5[0][0]                      \n",
            "__________________________________________________________________________________________________\n",
            "concatenate_2 (Concatenate)     (None, None, None, 3 0           conv4[0][0]                      \n",
            "                                                                 conv5[0][0]                      \n",
            "__________________________________________________________________________________________________\n",
            "norm6 (BatchNormalization)      (None, None, None, 3 1280        concatenate_2[0][0]              \n",
            "__________________________________________________________________________________________________\n",
            "conv6 (Conv2D)                  (None, None, None, 1 8192000     norm6[0][0]                      \n",
            "__________________________________________________________________________________________________\n",
            "norm1x1_2 (BatchNormalization)  (None, None, None, 1 4096        conv6[0][0]                      \n",
            "__________________________________________________________________________________________________\n",
            "conv1x1_2 (Conv2D)              (None, None, None, 1 131072      norm1x1_2[0][0]                  \n",
            "__________________________________________________________________________________________________\n",
            "max_pooling2d_2 (MaxPooling2D)  (None, None, None, 1 0           conv1x1_2[0][0]                  \n",
            "__________________________________________________________________________________________________\n",
            "norm7 (BatchNormalization)      (None, None, None, 1 512         max_pooling2d_2[0][0]            \n",
            "__________________________________________________________________________________________________\n",
            "conv7 (Conv2D)                  (None, None, None, 1 409600      norm7[0][0]                      \n",
            "__________________________________________________________________________________________________\n",
            "norm8 (BatchNormalization)      (None, None, None, 1 512         conv7[0][0]                      \n",
            "__________________________________________________________________________________________________\n",
            "conv8 (Conv2D)                  (None, None, None, 5 1638400     norm8[0][0]                      \n",
            "__________________________________________________________________________________________________\n",
            "concatenate_3 (Concatenate)     (None, None, None, 6 0           conv7[0][0]                      \n",
            "                                                                 conv8[0][0]                      \n",
            "__________________________________________________________________________________________________\n",
            "norm9 (BatchNormalization)      (None, None, None, 6 2560        concatenate_3[0][0]              \n",
            "__________________________________________________________________________________________________\n",
            "conv9 (SeparableConv2D)         (None, None, None, 2 1326720     norm9[0][0]                      \n",
            "__________________________________________________________________________________________________\n",
            "norm10 (BatchNormalization)     (None, None, None, 2 8192        conv9[0][0]                      \n",
            "__________________________________________________________________________________________________\n",
            "conv10 (Conv2D)                 (None, None, None, 2 409600      norm10[0][0]                     \n",
            "__________________________________________________________________________________________________\n",
            "global_average_pooling2d_1 (Glo (None, 200)          0           conv10[0][0]                     \n",
            "__________________________________________________________________________________________________\n",
            "activation_1 (Activation)       (None, 200)          0           global_average_pooling2d_1[0][0] \n",
            "==================================================================================================\n",
            "Total params: 13,447,660\n",
            "Trainable params: 13,437,414\n",
            "Non-trainable params: 10,246\n",
            "__________________________________________________________________________________________________\n"
          ],
          "name": "stdout"
        }
      ]
    },
    {
      "cell_type": "code",
      "metadata": {
        "id": "LVwCzUUMKeyF",
        "colab_type": "code",
        "outputId": "a3f01f4f-3f9f-40a6-b54d-96e233167313",
        "colab": {
          "base_uri": "https://localhost:8080/",
          "height": 272
        }
      },
      "source": [
        "## Create and compile a model and fit it using fit_generator\n",
        "from keras.callbacks import *\n",
        "\n",
        "model.compile(loss='categorical_crossentropy',\n",
        "              optimizer=Adam(),\n",
        "              metrics=['accuracy'])\n",
        "model.fit_generator(train_generator, epochs=5, steps_per_epoch=400, validation_steps=40, validation_data=validation_generator)"
      ],
      "execution_count": 0,
      "outputs": [
        {
          "output_type": "stream",
          "text": [
            "WARNING:tensorflow:From /usr/local/lib/python3.6/dist-packages/tensorflow/python/ops/math_ops.py:3066: to_int32 (from tensorflow.python.ops.math_ops) is deprecated and will be removed in a future version.\n",
            "Instructions for updating:\n",
            "Use tf.cast instead.\n",
            "Epoch 1/5\n",
            "400/400 [==============================] - 542s 1s/step - loss: 4.1463 - acc: 0.1268 - val_loss: 4.6715 - val_acc: 0.0958\n",
            "Epoch 2/5\n",
            "400/400 [==============================] - 499s 1s/step - loss: 3.2077 - acc: 0.2688 - val_loss: 4.0671 - val_acc: 0.1390\n",
            "Epoch 3/5\n",
            "400/400 [==============================] - 501s 1s/step - loss: 2.7331 - acc: 0.3576 - val_loss: 3.8367 - val_acc: 0.1636\n",
            "Epoch 4/5\n",
            "400/400 [==============================] - 497s 1s/step - loss: 2.3405 - acc: 0.4362 - val_loss: 3.6861 - val_acc: 0.1858\n",
            "Epoch 5/5\n",
            "400/400 [==============================] - 498s 1s/step - loss: 1.9772 - acc: 0.5126 - val_loss: 3.6432 - val_acc: 0.1911\n"
          ],
          "name": "stdout"
        },
        {
          "output_type": "execute_result",
          "data": {
            "text/plain": [
              "<keras.callbacks.History at 0x7f5945b47208>"
            ]
          },
          "metadata": {
            "tags": []
          },
          "execution_count": 11
        }
      ]
    },
    {
      "cell_type": "code",
      "metadata": {
        "id": "228BUxBOfw94",
        "colab_type": "code",
        "outputId": "e4efbf7f-3ea1-4917-f1c1-a888966b45f3",
        "colab": {
          "base_uri": "https://localhost:8080/",
          "height": 34
        }
      },
      "source": [
        "train_generator = train_datagen.flow_from_directory( r'./tiny-imagenet-200/train/', target_size=(64, 64), color_mode='rgb', \n",
        "                                                    batch_size=128, class_mode='categorical', shuffle=True, seed=42)"
      ],
      "execution_count": 0,
      "outputs": [
        {
          "output_type": "stream",
          "text": [
            "Found 100000 images belonging to 200 classes.\n"
          ],
          "name": "stdout"
        }
      ]
    },
    {
      "cell_type": "code",
      "metadata": {
        "id": "bR3gtzsPHAVw",
        "colab_type": "code",
        "outputId": "0b041e02-4236-42b5-b96c-a736c7bbebe9",
        "colab": {
          "base_uri": "https://localhost:8080/",
          "height": 1542
        }
      },
      "source": [
        "filepath = \"/content/gdrive/My Drive/weights/asgn4-epochs:{epoch:03d}-val_acc:{val_acc:.3f}.hdf5\"\n",
        "checkpoint = ModelCheckpoint(filepath, save_weights_only=True, verbose=1)\n",
        "\n",
        "model.fit_generator(train_generator, epochs=10, steps_per_epoch=800, validation_steps=40, validation_data=validation_generator, callbacks = [checkpoint])"
      ],
      "execution_count": 0,
      "outputs": [
        {
          "output_type": "stream",
          "text": [
            "Epoch 1/10\n",
            "800/800 [==============================] - 3480s 4s/step - loss: 2.2978 - acc: 0.4455 - val_loss: 2.2540 - val_acc: 0.4627\n",
            "\n",
            "Epoch 00001: saving model to /content/gdrive/My Drive/weights/asgn4-epochs:001-val_acc:0.463.hdf5\n",
            "Epoch 2/10\n",
            "800/800 [==============================] - 3421s 4s/step - loss: 1.6815 - acc: 0.5800 - val_loss: 2.0964 - val_acc: 0.4937\n",
            "\n",
            "Epoch 00002: saving model to /content/gdrive/My Drive/weights/asgn4-epochs:002-val_acc:0.494.hdf5\n",
            "Epoch 3/10\n",
            "800/800 [==============================] - 3407s 4s/step - loss: 1.2526 - acc: 0.6812 - val_loss: 2.0552 - val_acc: 0.5194\n",
            "\n",
            "Epoch 00003: saving model to /content/gdrive/My Drive/weights/asgn4-epochs:003-val_acc:0.519.hdf5\n",
            "Epoch 4/10\n",
            "800/800 [==============================] - 3391s 4s/step - loss: 0.8700 - acc: 0.7759 - val_loss: 2.0350 - val_acc: 0.5345\n",
            "\n",
            "Epoch 00004: saving model to /content/gdrive/My Drive/weights/asgn4-epochs:004-val_acc:0.534.hdf5\n",
            "Epoch 5/10\n",
            "800/800 [==============================] - 3389s 4s/step - loss: 0.5210 - acc: 0.8701 - val_loss: 2.1289 - val_acc: 0.5226\n",
            "\n",
            "Epoch 00005: saving model to /content/gdrive/My Drive/weights/asgn4-epochs:005-val_acc:0.523.hdf5\n",
            "Epoch 6/10\n",
            "800/800 [==============================] - 3399s 4s/step - loss: 0.2780 - acc: 0.9339 - val_loss: 2.2948 - val_acc: 0.5244\n",
            "\n",
            "Epoch 00006: saving model to /content/gdrive/My Drive/weights/asgn4-epochs:006-val_acc:0.524.hdf5\n",
            "Epoch 7/10\n",
            "800/800 [==============================] - 3425s 4s/step - loss: 0.1624 - acc: 0.9629 - val_loss: 2.3681 - val_acc: 0.5255\n",
            "\n",
            "Epoch 00007: saving model to /content/gdrive/My Drive/weights/asgn4-epochs:007-val_acc:0.525.hdf5\n",
            "Epoch 8/10\n",
            "  1/800 [..............................] - ETA: 55:23 - loss: 0.0766 - acc: 0.9922"
          ],
          "name": "stdout"
        },
        {
          "output_type": "error",
          "ename": "KeyboardInterrupt",
          "evalue": "ignored",
          "traceback": [
            "\u001b[0;31m---------------------------------------------------------------------------\u001b[0m",
            "\u001b[0;31mKeyboardInterrupt\u001b[0m                         Traceback (most recent call last)",
            "\u001b[0;32m<ipython-input-13-b48f4aef4d29>\u001b[0m in \u001b[0;36m<module>\u001b[0;34m()\u001b[0m\n\u001b[1;32m      3\u001b[0m \u001b[0;31m# checkpoint2 = ReduceLROnPlateau\u001b[0m\u001b[0;34m\u001b[0m\u001b[0;34m\u001b[0m\u001b[0;34m\u001b[0m\u001b[0m\n\u001b[1;32m      4\u001b[0m \u001b[0;34m\u001b[0m\u001b[0m\n\u001b[0;32m----> 5\u001b[0;31m \u001b[0mmodel\u001b[0m\u001b[0;34m.\u001b[0m\u001b[0mfit_generator\u001b[0m\u001b[0;34m(\u001b[0m\u001b[0mtrain_generator\u001b[0m\u001b[0;34m,\u001b[0m \u001b[0mepochs\u001b[0m\u001b[0;34m=\u001b[0m\u001b[0;36m10\u001b[0m\u001b[0;34m,\u001b[0m \u001b[0msteps_per_epoch\u001b[0m\u001b[0;34m=\u001b[0m\u001b[0;36m800\u001b[0m\u001b[0;34m,\u001b[0m \u001b[0mvalidation_steps\u001b[0m\u001b[0;34m=\u001b[0m\u001b[0;36m40\u001b[0m\u001b[0;34m,\u001b[0m \u001b[0mvalidation_data\u001b[0m\u001b[0;34m=\u001b[0m\u001b[0mvalidation_generator\u001b[0m\u001b[0;34m,\u001b[0m \u001b[0mcallbacks\u001b[0m \u001b[0;34m=\u001b[0m \u001b[0;34m[\u001b[0m\u001b[0mcheckpoint\u001b[0m\u001b[0;34m]\u001b[0m\u001b[0;34m)\u001b[0m\u001b[0;34m\u001b[0m\u001b[0;34m\u001b[0m\u001b[0m\n\u001b[0m",
            "\u001b[0;32m/usr/local/lib/python3.6/dist-packages/keras/legacy/interfaces.py\u001b[0m in \u001b[0;36mwrapper\u001b[0;34m(*args, **kwargs)\u001b[0m\n\u001b[1;32m     89\u001b[0m                 warnings.warn('Update your `' + object_name + '` call to the ' +\n\u001b[1;32m     90\u001b[0m                               'Keras 2 API: ' + signature, stacklevel=2)\n\u001b[0;32m---> 91\u001b[0;31m             \u001b[0;32mreturn\u001b[0m \u001b[0mfunc\u001b[0m\u001b[0;34m(\u001b[0m\u001b[0;34m*\u001b[0m\u001b[0margs\u001b[0m\u001b[0;34m,\u001b[0m \u001b[0;34m**\u001b[0m\u001b[0mkwargs\u001b[0m\u001b[0;34m)\u001b[0m\u001b[0;34m\u001b[0m\u001b[0;34m\u001b[0m\u001b[0m\n\u001b[0m\u001b[1;32m     92\u001b[0m         \u001b[0mwrapper\u001b[0m\u001b[0;34m.\u001b[0m\u001b[0m_original_function\u001b[0m \u001b[0;34m=\u001b[0m \u001b[0mfunc\u001b[0m\u001b[0;34m\u001b[0m\u001b[0;34m\u001b[0m\u001b[0m\n\u001b[1;32m     93\u001b[0m         \u001b[0;32mreturn\u001b[0m \u001b[0mwrapper\u001b[0m\u001b[0;34m\u001b[0m\u001b[0;34m\u001b[0m\u001b[0m\n",
            "\u001b[0;32m/usr/local/lib/python3.6/dist-packages/keras/engine/training.py\u001b[0m in \u001b[0;36mfit_generator\u001b[0;34m(self, generator, steps_per_epoch, epochs, verbose, callbacks, validation_data, validation_steps, class_weight, max_queue_size, workers, use_multiprocessing, shuffle, initial_epoch)\u001b[0m\n\u001b[1;32m   1416\u001b[0m             \u001b[0muse_multiprocessing\u001b[0m\u001b[0;34m=\u001b[0m\u001b[0muse_multiprocessing\u001b[0m\u001b[0;34m,\u001b[0m\u001b[0;34m\u001b[0m\u001b[0;34m\u001b[0m\u001b[0m\n\u001b[1;32m   1417\u001b[0m             \u001b[0mshuffle\u001b[0m\u001b[0;34m=\u001b[0m\u001b[0mshuffle\u001b[0m\u001b[0;34m,\u001b[0m\u001b[0;34m\u001b[0m\u001b[0;34m\u001b[0m\u001b[0m\n\u001b[0;32m-> 1418\u001b[0;31m             initial_epoch=initial_epoch)\n\u001b[0m\u001b[1;32m   1419\u001b[0m \u001b[0;34m\u001b[0m\u001b[0m\n\u001b[1;32m   1420\u001b[0m     \u001b[0;34m@\u001b[0m\u001b[0minterfaces\u001b[0m\u001b[0;34m.\u001b[0m\u001b[0mlegacy_generator_methods_support\u001b[0m\u001b[0;34m\u001b[0m\u001b[0;34m\u001b[0m\u001b[0m\n",
            "\u001b[0;32m/usr/local/lib/python3.6/dist-packages/keras/engine/training_generator.py\u001b[0m in \u001b[0;36mfit_generator\u001b[0;34m(model, generator, steps_per_epoch, epochs, verbose, callbacks, validation_data, validation_steps, class_weight, max_queue_size, workers, use_multiprocessing, shuffle, initial_epoch)\u001b[0m\n\u001b[1;32m    215\u001b[0m                 outs = model.train_on_batch(x, y,\n\u001b[1;32m    216\u001b[0m                                             \u001b[0msample_weight\u001b[0m\u001b[0;34m=\u001b[0m\u001b[0msample_weight\u001b[0m\u001b[0;34m,\u001b[0m\u001b[0;34m\u001b[0m\u001b[0;34m\u001b[0m\u001b[0m\n\u001b[0;32m--> 217\u001b[0;31m                                             class_weight=class_weight)\n\u001b[0m\u001b[1;32m    218\u001b[0m \u001b[0;34m\u001b[0m\u001b[0m\n\u001b[1;32m    219\u001b[0m                 \u001b[0mouts\u001b[0m \u001b[0;34m=\u001b[0m \u001b[0mto_list\u001b[0m\u001b[0;34m(\u001b[0m\u001b[0mouts\u001b[0m\u001b[0;34m)\u001b[0m\u001b[0;34m\u001b[0m\u001b[0;34m\u001b[0m\u001b[0m\n",
            "\u001b[0;32m/usr/local/lib/python3.6/dist-packages/keras/engine/training.py\u001b[0m in \u001b[0;36mtrain_on_batch\u001b[0;34m(self, x, y, sample_weight, class_weight)\u001b[0m\n\u001b[1;32m   1215\u001b[0m             \u001b[0mins\u001b[0m \u001b[0;34m=\u001b[0m \u001b[0mx\u001b[0m \u001b[0;34m+\u001b[0m \u001b[0my\u001b[0m \u001b[0;34m+\u001b[0m \u001b[0msample_weights\u001b[0m\u001b[0;34m\u001b[0m\u001b[0;34m\u001b[0m\u001b[0m\n\u001b[1;32m   1216\u001b[0m         \u001b[0mself\u001b[0m\u001b[0;34m.\u001b[0m\u001b[0m_make_train_function\u001b[0m\u001b[0;34m(\u001b[0m\u001b[0;34m)\u001b[0m\u001b[0;34m\u001b[0m\u001b[0;34m\u001b[0m\u001b[0m\n\u001b[0;32m-> 1217\u001b[0;31m         \u001b[0moutputs\u001b[0m \u001b[0;34m=\u001b[0m \u001b[0mself\u001b[0m\u001b[0;34m.\u001b[0m\u001b[0mtrain_function\u001b[0m\u001b[0;34m(\u001b[0m\u001b[0mins\u001b[0m\u001b[0;34m)\u001b[0m\u001b[0;34m\u001b[0m\u001b[0;34m\u001b[0m\u001b[0m\n\u001b[0m\u001b[1;32m   1218\u001b[0m         \u001b[0;32mreturn\u001b[0m \u001b[0munpack_singleton\u001b[0m\u001b[0;34m(\u001b[0m\u001b[0moutputs\u001b[0m\u001b[0;34m)\u001b[0m\u001b[0;34m\u001b[0m\u001b[0;34m\u001b[0m\u001b[0m\n\u001b[1;32m   1219\u001b[0m \u001b[0;34m\u001b[0m\u001b[0m\n",
            "\u001b[0;32m/usr/local/lib/python3.6/dist-packages/keras/backend/tensorflow_backend.py\u001b[0m in \u001b[0;36m__call__\u001b[0;34m(self, inputs)\u001b[0m\n\u001b[1;32m   2713\u001b[0m                 \u001b[0;32mreturn\u001b[0m \u001b[0mself\u001b[0m\u001b[0;34m.\u001b[0m\u001b[0m_legacy_call\u001b[0m\u001b[0;34m(\u001b[0m\u001b[0minputs\u001b[0m\u001b[0;34m)\u001b[0m\u001b[0;34m\u001b[0m\u001b[0;34m\u001b[0m\u001b[0m\n\u001b[1;32m   2714\u001b[0m \u001b[0;34m\u001b[0m\u001b[0m\n\u001b[0;32m-> 2715\u001b[0;31m             \u001b[0;32mreturn\u001b[0m \u001b[0mself\u001b[0m\u001b[0;34m.\u001b[0m\u001b[0m_call\u001b[0m\u001b[0;34m(\u001b[0m\u001b[0minputs\u001b[0m\u001b[0;34m)\u001b[0m\u001b[0;34m\u001b[0m\u001b[0;34m\u001b[0m\u001b[0m\n\u001b[0m\u001b[1;32m   2716\u001b[0m         \u001b[0;32melse\u001b[0m\u001b[0;34m:\u001b[0m\u001b[0;34m\u001b[0m\u001b[0;34m\u001b[0m\u001b[0m\n\u001b[1;32m   2717\u001b[0m             \u001b[0;32mif\u001b[0m \u001b[0mpy_any\u001b[0m\u001b[0;34m(\u001b[0m\u001b[0mis_tensor\u001b[0m\u001b[0;34m(\u001b[0m\u001b[0mx\u001b[0m\u001b[0;34m)\u001b[0m \u001b[0;32mfor\u001b[0m \u001b[0mx\u001b[0m \u001b[0;32min\u001b[0m \u001b[0minputs\u001b[0m\u001b[0;34m)\u001b[0m\u001b[0;34m:\u001b[0m\u001b[0;34m\u001b[0m\u001b[0;34m\u001b[0m\u001b[0m\n",
            "\u001b[0;32m/usr/local/lib/python3.6/dist-packages/keras/backend/tensorflow_backend.py\u001b[0m in \u001b[0;36m_call\u001b[0;34m(self, inputs)\u001b[0m\n\u001b[1;32m   2673\u001b[0m             \u001b[0mfetched\u001b[0m \u001b[0;34m=\u001b[0m \u001b[0mself\u001b[0m\u001b[0;34m.\u001b[0m\u001b[0m_callable_fn\u001b[0m\u001b[0;34m(\u001b[0m\u001b[0;34m*\u001b[0m\u001b[0marray_vals\u001b[0m\u001b[0;34m,\u001b[0m \u001b[0mrun_metadata\u001b[0m\u001b[0;34m=\u001b[0m\u001b[0mself\u001b[0m\u001b[0;34m.\u001b[0m\u001b[0mrun_metadata\u001b[0m\u001b[0;34m)\u001b[0m\u001b[0;34m\u001b[0m\u001b[0;34m\u001b[0m\u001b[0m\n\u001b[1;32m   2674\u001b[0m         \u001b[0;32melse\u001b[0m\u001b[0;34m:\u001b[0m\u001b[0;34m\u001b[0m\u001b[0;34m\u001b[0m\u001b[0m\n\u001b[0;32m-> 2675\u001b[0;31m             \u001b[0mfetched\u001b[0m \u001b[0;34m=\u001b[0m \u001b[0mself\u001b[0m\u001b[0;34m.\u001b[0m\u001b[0m_callable_fn\u001b[0m\u001b[0;34m(\u001b[0m\u001b[0;34m*\u001b[0m\u001b[0marray_vals\u001b[0m\u001b[0;34m)\u001b[0m\u001b[0;34m\u001b[0m\u001b[0;34m\u001b[0m\u001b[0m\n\u001b[0m\u001b[1;32m   2676\u001b[0m         \u001b[0;32mreturn\u001b[0m \u001b[0mfetched\u001b[0m\u001b[0;34m[\u001b[0m\u001b[0;34m:\u001b[0m\u001b[0mlen\u001b[0m\u001b[0;34m(\u001b[0m\u001b[0mself\u001b[0m\u001b[0;34m.\u001b[0m\u001b[0moutputs\u001b[0m\u001b[0;34m)\u001b[0m\u001b[0;34m]\u001b[0m\u001b[0;34m\u001b[0m\u001b[0;34m\u001b[0m\u001b[0m\n\u001b[1;32m   2677\u001b[0m \u001b[0;34m\u001b[0m\u001b[0m\n",
            "\u001b[0;32m/usr/local/lib/python3.6/dist-packages/tensorflow/python/client/session.py\u001b[0m in \u001b[0;36m__call__\u001b[0;34m(self, *args, **kwargs)\u001b[0m\n\u001b[1;32m   1437\u001b[0m           ret = tf_session.TF_SessionRunCallable(\n\u001b[1;32m   1438\u001b[0m               \u001b[0mself\u001b[0m\u001b[0;34m.\u001b[0m\u001b[0m_session\u001b[0m\u001b[0;34m.\u001b[0m\u001b[0m_session\u001b[0m\u001b[0;34m,\u001b[0m \u001b[0mself\u001b[0m\u001b[0;34m.\u001b[0m\u001b[0m_handle\u001b[0m\u001b[0;34m,\u001b[0m \u001b[0margs\u001b[0m\u001b[0;34m,\u001b[0m \u001b[0mstatus\u001b[0m\u001b[0;34m,\u001b[0m\u001b[0;34m\u001b[0m\u001b[0;34m\u001b[0m\u001b[0m\n\u001b[0;32m-> 1439\u001b[0;31m               run_metadata_ptr)\n\u001b[0m\u001b[1;32m   1440\u001b[0m         \u001b[0;32mif\u001b[0m \u001b[0mrun_metadata\u001b[0m\u001b[0;34m:\u001b[0m\u001b[0;34m\u001b[0m\u001b[0;34m\u001b[0m\u001b[0m\n\u001b[1;32m   1441\u001b[0m           \u001b[0mproto_data\u001b[0m \u001b[0;34m=\u001b[0m \u001b[0mtf_session\u001b[0m\u001b[0;34m.\u001b[0m\u001b[0mTF_GetBuffer\u001b[0m\u001b[0;34m(\u001b[0m\u001b[0mrun_metadata_ptr\u001b[0m\u001b[0;34m)\u001b[0m\u001b[0;34m\u001b[0m\u001b[0;34m\u001b[0m\u001b[0m\n",
            "\u001b[0;31mKeyboardInterrupt\u001b[0m: "
          ]
        }
      ]
    },
    {
      "cell_type": "code",
      "metadata": {
        "id": "kx6UaPy6ysLG",
        "colab_type": "code",
        "colab": {}
      },
      "source": [
        "model.load_weights('/content/gdrive/My Drive/weights/asgn4-epochs:003-val_acc:0.519.hdf5')"
      ],
      "execution_count": 0,
      "outputs": []
    },
    {
      "cell_type": "code",
      "metadata": {
        "id": "H0YmL3V_3aJR",
        "colab_type": "code",
        "outputId": "3f82c3ca-522b-4e36-d32e-f8c1149e6292",
        "colab": {
          "base_uri": "https://localhost:8080/",
          "height": 34
        }
      },
      "source": [
        "from imgaug import augmenters as iaa\n",
        "\n",
        "seq = iaa.Sometimes(0.5, iaa.SomeOf((0, None), [\n",
        "    iaa.Fliplr(),\n",
        "    iaa.GaussianBlur(sigma=(0.0, 1.5)),\n",
        "    iaa.Multiply((0.5, 1.5)),\n",
        "    iaa.CoarseDropout((0.0, 0.05), size_percent=(0.02, 0.50)),\n",
        "    iaa.Affine(rotate=(0,30))\n",
        "], random_order=False))\n",
        "\n",
        "train_datagen = ImageDataGenerator(rescale= 1./255, preprocessing_function=seq.augment_image)\n",
        "\n",
        "train_generator = train_datagen.flow_from_directory( r'./tiny-imagenet-200/train/', target_size=(64, 64), color_mode='rgb', \n",
        "                                                    batch_size=128, class_mode='categorical', shuffle=True, seed=42)\n"
      ],
      "execution_count": 0,
      "outputs": [
        {
          "output_type": "stream",
          "text": [
            "Found 100000 images belonging to 200 classes.\n"
          ],
          "name": "stdout"
        }
      ]
    },
    {
      "cell_type": "code",
      "metadata": {
        "id": "5zSLvtDbzerW",
        "colab_type": "code",
        "outputId": "5e7602a1-8656-45be-a8e3-160bb7a08ebc",
        "colab": {
          "base_uri": "https://localhost:8080/",
          "height": 1213
        }
      },
      "source": [
        "from keras.callbacks import *\n",
        "\n",
        "model.compile(loss='categorical_crossentropy',\n",
        "              optimizer=Adam(),\n",
        "              metrics=['accuracy'])\n",
        "\n",
        "filepath = \"/content/gdrive/My Drive/weights/asgn4-augment-epochs:{epoch:03d}-val_acc:{val_acc:.3f}.hdf5\"\n",
        "checkpoint = ModelCheckpoint(filepath, save_weights_only=True, verbose=1)\n",
        "\n",
        "model.fit_generator(train_generator, epochs=10, steps_per_epoch=800, validation_steps=40, validation_data=validation_generator, callbacks = [checkpoint])"
      ],
      "execution_count": 0,
      "outputs": [
        {
          "output_type": "stream",
          "text": [
            "WARNING:tensorflow:From /usr/local/lib/python3.6/dist-packages/tensorflow/python/ops/math_ops.py:3066: to_int32 (from tensorflow.python.ops.math_ops) is deprecated and will be removed in a future version.\n",
            "Instructions for updating:\n",
            "Use tf.cast instead.\n",
            "Epoch 1/10\n",
            "800/800 [==============================] - 3437s 4s/step - loss: 1.3748 - acc: 0.6558 - val_loss: 2.1519 - val_acc: 0.5069\n",
            "\n",
            "Epoch 00001: saving model to /content/gdrive/My Drive/weights/asgn4-augment-epochs:001-val_acc:0.507.hdf5\n",
            "Epoch 2/10\n",
            "184/800 [=====>........................] - ETA: 42:44 - loss: 1.0257 - acc: 0.7417"
          ],
          "name": "stdout"
        },
        {
          "output_type": "error",
          "ename": "KeyboardInterrupt",
          "evalue": "ignored",
          "traceback": [
            "\u001b[0;31m---------------------------------------------------------------------------\u001b[0m",
            "\u001b[0;31mKeyboardInterrupt\u001b[0m                         Traceback (most recent call last)",
            "\u001b[0;32m<ipython-input-13-0629f7f0b2f8>\u001b[0m in \u001b[0;36m<module>\u001b[0;34m()\u001b[0m\n\u001b[1;32m      9\u001b[0m \u001b[0;31m# checkpoint2 = ReduceLROnPlateau\u001b[0m\u001b[0;34m\u001b[0m\u001b[0;34m\u001b[0m\u001b[0;34m\u001b[0m\u001b[0m\n\u001b[1;32m     10\u001b[0m \u001b[0;34m\u001b[0m\u001b[0m\n\u001b[0;32m---> 11\u001b[0;31m \u001b[0mmodel\u001b[0m\u001b[0;34m.\u001b[0m\u001b[0mfit_generator\u001b[0m\u001b[0;34m(\u001b[0m\u001b[0mtrain_generator\u001b[0m\u001b[0;34m,\u001b[0m \u001b[0mepochs\u001b[0m\u001b[0;34m=\u001b[0m\u001b[0;36m10\u001b[0m\u001b[0;34m,\u001b[0m \u001b[0msteps_per_epoch\u001b[0m\u001b[0;34m=\u001b[0m\u001b[0;36m800\u001b[0m\u001b[0;34m,\u001b[0m \u001b[0mvalidation_steps\u001b[0m\u001b[0;34m=\u001b[0m\u001b[0;36m40\u001b[0m\u001b[0;34m,\u001b[0m \u001b[0mvalidation_data\u001b[0m\u001b[0;34m=\u001b[0m\u001b[0mvalidation_generator\u001b[0m\u001b[0;34m,\u001b[0m \u001b[0mcallbacks\u001b[0m \u001b[0;34m=\u001b[0m \u001b[0;34m[\u001b[0m\u001b[0mcheckpoint\u001b[0m\u001b[0;34m]\u001b[0m\u001b[0;34m)\u001b[0m\u001b[0;34m\u001b[0m\u001b[0;34m\u001b[0m\u001b[0m\n\u001b[0m",
            "\u001b[0;32m/usr/local/lib/python3.6/dist-packages/keras/legacy/interfaces.py\u001b[0m in \u001b[0;36mwrapper\u001b[0;34m(*args, **kwargs)\u001b[0m\n\u001b[1;32m     89\u001b[0m                 warnings.warn('Update your `' + object_name + '` call to the ' +\n\u001b[1;32m     90\u001b[0m                               'Keras 2 API: ' + signature, stacklevel=2)\n\u001b[0;32m---> 91\u001b[0;31m             \u001b[0;32mreturn\u001b[0m \u001b[0mfunc\u001b[0m\u001b[0;34m(\u001b[0m\u001b[0;34m*\u001b[0m\u001b[0margs\u001b[0m\u001b[0;34m,\u001b[0m \u001b[0;34m**\u001b[0m\u001b[0mkwargs\u001b[0m\u001b[0;34m)\u001b[0m\u001b[0;34m\u001b[0m\u001b[0;34m\u001b[0m\u001b[0m\n\u001b[0m\u001b[1;32m     92\u001b[0m         \u001b[0mwrapper\u001b[0m\u001b[0;34m.\u001b[0m\u001b[0m_original_function\u001b[0m \u001b[0;34m=\u001b[0m \u001b[0mfunc\u001b[0m\u001b[0;34m\u001b[0m\u001b[0;34m\u001b[0m\u001b[0m\n\u001b[1;32m     93\u001b[0m         \u001b[0;32mreturn\u001b[0m \u001b[0mwrapper\u001b[0m\u001b[0;34m\u001b[0m\u001b[0;34m\u001b[0m\u001b[0m\n",
            "\u001b[0;32m/usr/local/lib/python3.6/dist-packages/keras/engine/training.py\u001b[0m in \u001b[0;36mfit_generator\u001b[0;34m(self, generator, steps_per_epoch, epochs, verbose, callbacks, validation_data, validation_steps, class_weight, max_queue_size, workers, use_multiprocessing, shuffle, initial_epoch)\u001b[0m\n\u001b[1;32m   1416\u001b[0m             \u001b[0muse_multiprocessing\u001b[0m\u001b[0;34m=\u001b[0m\u001b[0muse_multiprocessing\u001b[0m\u001b[0;34m,\u001b[0m\u001b[0;34m\u001b[0m\u001b[0;34m\u001b[0m\u001b[0m\n\u001b[1;32m   1417\u001b[0m             \u001b[0mshuffle\u001b[0m\u001b[0;34m=\u001b[0m\u001b[0mshuffle\u001b[0m\u001b[0;34m,\u001b[0m\u001b[0;34m\u001b[0m\u001b[0;34m\u001b[0m\u001b[0m\n\u001b[0;32m-> 1418\u001b[0;31m             initial_epoch=initial_epoch)\n\u001b[0m\u001b[1;32m   1419\u001b[0m \u001b[0;34m\u001b[0m\u001b[0m\n\u001b[1;32m   1420\u001b[0m     \u001b[0;34m@\u001b[0m\u001b[0minterfaces\u001b[0m\u001b[0;34m.\u001b[0m\u001b[0mlegacy_generator_methods_support\u001b[0m\u001b[0;34m\u001b[0m\u001b[0;34m\u001b[0m\u001b[0m\n",
            "\u001b[0;32m/usr/local/lib/python3.6/dist-packages/keras/engine/training_generator.py\u001b[0m in \u001b[0;36mfit_generator\u001b[0;34m(model, generator, steps_per_epoch, epochs, verbose, callbacks, validation_data, validation_steps, class_weight, max_queue_size, workers, use_multiprocessing, shuffle, initial_epoch)\u001b[0m\n\u001b[1;32m    215\u001b[0m                 outs = model.train_on_batch(x, y,\n\u001b[1;32m    216\u001b[0m                                             \u001b[0msample_weight\u001b[0m\u001b[0;34m=\u001b[0m\u001b[0msample_weight\u001b[0m\u001b[0;34m,\u001b[0m\u001b[0;34m\u001b[0m\u001b[0;34m\u001b[0m\u001b[0m\n\u001b[0;32m--> 217\u001b[0;31m                                             class_weight=class_weight)\n\u001b[0m\u001b[1;32m    218\u001b[0m \u001b[0;34m\u001b[0m\u001b[0m\n\u001b[1;32m    219\u001b[0m                 \u001b[0mouts\u001b[0m \u001b[0;34m=\u001b[0m \u001b[0mto_list\u001b[0m\u001b[0;34m(\u001b[0m\u001b[0mouts\u001b[0m\u001b[0;34m)\u001b[0m\u001b[0;34m\u001b[0m\u001b[0;34m\u001b[0m\u001b[0m\n",
            "\u001b[0;32m/usr/local/lib/python3.6/dist-packages/keras/engine/training.py\u001b[0m in \u001b[0;36mtrain_on_batch\u001b[0;34m(self, x, y, sample_weight, class_weight)\u001b[0m\n\u001b[1;32m   1215\u001b[0m             \u001b[0mins\u001b[0m \u001b[0;34m=\u001b[0m \u001b[0mx\u001b[0m \u001b[0;34m+\u001b[0m \u001b[0my\u001b[0m \u001b[0;34m+\u001b[0m \u001b[0msample_weights\u001b[0m\u001b[0;34m\u001b[0m\u001b[0;34m\u001b[0m\u001b[0m\n\u001b[1;32m   1216\u001b[0m         \u001b[0mself\u001b[0m\u001b[0;34m.\u001b[0m\u001b[0m_make_train_function\u001b[0m\u001b[0;34m(\u001b[0m\u001b[0;34m)\u001b[0m\u001b[0;34m\u001b[0m\u001b[0;34m\u001b[0m\u001b[0m\n\u001b[0;32m-> 1217\u001b[0;31m         \u001b[0moutputs\u001b[0m \u001b[0;34m=\u001b[0m \u001b[0mself\u001b[0m\u001b[0;34m.\u001b[0m\u001b[0mtrain_function\u001b[0m\u001b[0;34m(\u001b[0m\u001b[0mins\u001b[0m\u001b[0;34m)\u001b[0m\u001b[0;34m\u001b[0m\u001b[0;34m\u001b[0m\u001b[0m\n\u001b[0m\u001b[1;32m   1218\u001b[0m         \u001b[0;32mreturn\u001b[0m \u001b[0munpack_singleton\u001b[0m\u001b[0;34m(\u001b[0m\u001b[0moutputs\u001b[0m\u001b[0;34m)\u001b[0m\u001b[0;34m\u001b[0m\u001b[0;34m\u001b[0m\u001b[0m\n\u001b[1;32m   1219\u001b[0m \u001b[0;34m\u001b[0m\u001b[0m\n",
            "\u001b[0;32m/usr/local/lib/python3.6/dist-packages/keras/backend/tensorflow_backend.py\u001b[0m in \u001b[0;36m__call__\u001b[0;34m(self, inputs)\u001b[0m\n\u001b[1;32m   2713\u001b[0m                 \u001b[0;32mreturn\u001b[0m \u001b[0mself\u001b[0m\u001b[0;34m.\u001b[0m\u001b[0m_legacy_call\u001b[0m\u001b[0;34m(\u001b[0m\u001b[0minputs\u001b[0m\u001b[0;34m)\u001b[0m\u001b[0;34m\u001b[0m\u001b[0;34m\u001b[0m\u001b[0m\n\u001b[1;32m   2714\u001b[0m \u001b[0;34m\u001b[0m\u001b[0m\n\u001b[0;32m-> 2715\u001b[0;31m             \u001b[0;32mreturn\u001b[0m \u001b[0mself\u001b[0m\u001b[0;34m.\u001b[0m\u001b[0m_call\u001b[0m\u001b[0;34m(\u001b[0m\u001b[0minputs\u001b[0m\u001b[0;34m)\u001b[0m\u001b[0;34m\u001b[0m\u001b[0;34m\u001b[0m\u001b[0m\n\u001b[0m\u001b[1;32m   2716\u001b[0m         \u001b[0;32melse\u001b[0m\u001b[0;34m:\u001b[0m\u001b[0;34m\u001b[0m\u001b[0;34m\u001b[0m\u001b[0m\n\u001b[1;32m   2717\u001b[0m             \u001b[0;32mif\u001b[0m \u001b[0mpy_any\u001b[0m\u001b[0;34m(\u001b[0m\u001b[0mis_tensor\u001b[0m\u001b[0;34m(\u001b[0m\u001b[0mx\u001b[0m\u001b[0;34m)\u001b[0m \u001b[0;32mfor\u001b[0m \u001b[0mx\u001b[0m \u001b[0;32min\u001b[0m \u001b[0minputs\u001b[0m\u001b[0;34m)\u001b[0m\u001b[0;34m:\u001b[0m\u001b[0;34m\u001b[0m\u001b[0;34m\u001b[0m\u001b[0m\n",
            "\u001b[0;32m/usr/local/lib/python3.6/dist-packages/keras/backend/tensorflow_backend.py\u001b[0m in \u001b[0;36m_call\u001b[0;34m(self, inputs)\u001b[0m\n\u001b[1;32m   2673\u001b[0m             \u001b[0mfetched\u001b[0m \u001b[0;34m=\u001b[0m \u001b[0mself\u001b[0m\u001b[0;34m.\u001b[0m\u001b[0m_callable_fn\u001b[0m\u001b[0;34m(\u001b[0m\u001b[0;34m*\u001b[0m\u001b[0marray_vals\u001b[0m\u001b[0;34m,\u001b[0m \u001b[0mrun_metadata\u001b[0m\u001b[0;34m=\u001b[0m\u001b[0mself\u001b[0m\u001b[0;34m.\u001b[0m\u001b[0mrun_metadata\u001b[0m\u001b[0;34m)\u001b[0m\u001b[0;34m\u001b[0m\u001b[0;34m\u001b[0m\u001b[0m\n\u001b[1;32m   2674\u001b[0m         \u001b[0;32melse\u001b[0m\u001b[0;34m:\u001b[0m\u001b[0;34m\u001b[0m\u001b[0;34m\u001b[0m\u001b[0m\n\u001b[0;32m-> 2675\u001b[0;31m             \u001b[0mfetched\u001b[0m \u001b[0;34m=\u001b[0m \u001b[0mself\u001b[0m\u001b[0;34m.\u001b[0m\u001b[0m_callable_fn\u001b[0m\u001b[0;34m(\u001b[0m\u001b[0;34m*\u001b[0m\u001b[0marray_vals\u001b[0m\u001b[0;34m)\u001b[0m\u001b[0;34m\u001b[0m\u001b[0;34m\u001b[0m\u001b[0m\n\u001b[0m\u001b[1;32m   2676\u001b[0m         \u001b[0;32mreturn\u001b[0m \u001b[0mfetched\u001b[0m\u001b[0;34m[\u001b[0m\u001b[0;34m:\u001b[0m\u001b[0mlen\u001b[0m\u001b[0;34m(\u001b[0m\u001b[0mself\u001b[0m\u001b[0;34m.\u001b[0m\u001b[0moutputs\u001b[0m\u001b[0;34m)\u001b[0m\u001b[0;34m]\u001b[0m\u001b[0;34m\u001b[0m\u001b[0;34m\u001b[0m\u001b[0m\n\u001b[1;32m   2677\u001b[0m \u001b[0;34m\u001b[0m\u001b[0m\n",
            "\u001b[0;32m/usr/local/lib/python3.6/dist-packages/tensorflow/python/client/session.py\u001b[0m in \u001b[0;36m__call__\u001b[0;34m(self, *args, **kwargs)\u001b[0m\n\u001b[1;32m   1437\u001b[0m           ret = tf_session.TF_SessionRunCallable(\n\u001b[1;32m   1438\u001b[0m               \u001b[0mself\u001b[0m\u001b[0;34m.\u001b[0m\u001b[0m_session\u001b[0m\u001b[0;34m.\u001b[0m\u001b[0m_session\u001b[0m\u001b[0;34m,\u001b[0m \u001b[0mself\u001b[0m\u001b[0;34m.\u001b[0m\u001b[0m_handle\u001b[0m\u001b[0;34m,\u001b[0m \u001b[0margs\u001b[0m\u001b[0;34m,\u001b[0m \u001b[0mstatus\u001b[0m\u001b[0;34m,\u001b[0m\u001b[0;34m\u001b[0m\u001b[0;34m\u001b[0m\u001b[0m\n\u001b[0;32m-> 1439\u001b[0;31m               run_metadata_ptr)\n\u001b[0m\u001b[1;32m   1440\u001b[0m         \u001b[0;32mif\u001b[0m \u001b[0mrun_metadata\u001b[0m\u001b[0;34m:\u001b[0m\u001b[0;34m\u001b[0m\u001b[0;34m\u001b[0m\u001b[0m\n\u001b[1;32m   1441\u001b[0m           \u001b[0mproto_data\u001b[0m \u001b[0;34m=\u001b[0m \u001b[0mtf_session\u001b[0m\u001b[0;34m.\u001b[0m\u001b[0mTF_GetBuffer\u001b[0m\u001b[0;34m(\u001b[0m\u001b[0mrun_metadata_ptr\u001b[0m\u001b[0;34m)\u001b[0m\u001b[0;34m\u001b[0m\u001b[0;34m\u001b[0m\u001b[0m\n",
            "\u001b[0;31mKeyboardInterrupt\u001b[0m: "
          ]
        }
      ]
    },
    {
      "cell_type": "code",
      "metadata": {
        "id": "SLXXjXb_EAER",
        "colab_type": "code",
        "outputId": "8be17d76-37c1-41f4-dba3-27d74e366991",
        "colab": {
          "base_uri": "https://localhost:8080/",
          "height": 34
        }
      },
      "source": [
        "seq = iaa.Sometimes(0.5, iaa.SomeOf((1, None), [\n",
        "    iaa.Fliplr(),\n",
        "    iaa.GaussianBlur(sigma=(0.0, 1.5)),\n",
        "    iaa.Multiply((0.5, 1.5)),\n",
        "    iaa.CoarseDropout((0.0, 0.05), size_percent=(0.02, 0.05)),\n",
        "    iaa.Affine(rotate=(-30,30))\n",
        "], random_order=False))\n",
        "\n",
        "train_datagen = ImageDataGenerator(rescale= 1./255, preprocessing_function=seq.augment_image)\n",
        "\n",
        "train_generator = train_datagen.flow_from_directory( r'./tiny-imagenet-200/train/', target_size=(64, 64), color_mode='rgb', \n",
        "                                                    batch_size=128, class_mode='categorical', shuffle=True, seed=42)"
      ],
      "execution_count": 0,
      "outputs": [
        {
          "output_type": "stream",
          "text": [
            "Found 100000 images belonging to 200 classes.\n"
          ],
          "name": "stdout"
        }
      ]
    },
    {
      "cell_type": "code",
      "metadata": {
        "id": "HgK1NUkMgomd",
        "colab_type": "code",
        "outputId": "801c2b77-e9b0-4e01-af69-b269fee516ca",
        "colab": {
          "base_uri": "https://localhost:8080/",
          "height": 1299
        }
      },
      "source": [
        "filepath = \"/content/gdrive/My Drive/weights/asgn4-augment-epochs:{epoch:03d}-val_acc:{val_acc:.3f}.hdf5\"\n",
        "checkpoint = ModelCheckpoint(filepath, save_weights_only=True, verbose=1)\n",
        "\n",
        "model.fit_generator(train_generator, epochs=5, steps_per_epoch=800, validation_steps=40, validation_data=validation_generator, callbacks = [checkpoint])"
      ],
      "execution_count": 0,
      "outputs": [
        {
          "output_type": "stream",
          "text": [
            "Epoch 1/5\n",
            "800/800 [==============================] - 3386s 4s/step - loss: 1.0480 - acc: 0.7375 - val_loss: 2.2819 - val_acc: 0.5070\n",
            "\n",
            "Epoch 00001: saving model to /content/gdrive/My Drive/weights/asgn4-augment-epochs:001-val_acc:0.507.hdf5\n",
            "Epoch 2/5\n",
            "800/800 [==============================] - 3378s 4s/step - loss: 0.8786 - acc: 0.7769 - val_loss: 2.2470 - val_acc: 0.5116\n",
            "\n",
            "Epoch 00002: saving model to /content/gdrive/My Drive/weights/asgn4-augment-epochs:002-val_acc:0.512.hdf5\n",
            "Epoch 3/5\n",
            "800/800 [==============================] - 3376s 4s/step - loss: 0.7181 - acc: 0.8162 - val_loss: 2.2678 - val_acc: 0.5123\n",
            "\n",
            "Epoch 00003: saving model to /content/gdrive/My Drive/weights/asgn4-augment-epochs:003-val_acc:0.512.hdf5\n",
            "Epoch 4/5\n",
            "  2/800 [..............................] - ETA: 55:08 - loss: 0.4176 - acc: 0.8984"
          ],
          "name": "stdout"
        },
        {
          "output_type": "error",
          "ename": "KeyboardInterrupt",
          "evalue": "ignored",
          "traceback": [
            "\u001b[0;31m---------------------------------------------------------------------------\u001b[0m",
            "\u001b[0;31mKeyboardInterrupt\u001b[0m                         Traceback (most recent call last)",
            "\u001b[0;32m<ipython-input-15-c7a19562a9f0>\u001b[0m in \u001b[0;36m<module>\u001b[0;34m()\u001b[0m\n\u001b[1;32m      3\u001b[0m \u001b[0;31m# checkpoint2 = ReduceLROnPlateau\u001b[0m\u001b[0;34m\u001b[0m\u001b[0;34m\u001b[0m\u001b[0;34m\u001b[0m\u001b[0m\n\u001b[1;32m      4\u001b[0m \u001b[0;34m\u001b[0m\u001b[0m\n\u001b[0;32m----> 5\u001b[0;31m \u001b[0mmodel\u001b[0m\u001b[0;34m.\u001b[0m\u001b[0mfit_generator\u001b[0m\u001b[0;34m(\u001b[0m\u001b[0mtrain_generator\u001b[0m\u001b[0;34m,\u001b[0m \u001b[0mepochs\u001b[0m\u001b[0;34m=\u001b[0m\u001b[0;36m5\u001b[0m\u001b[0;34m,\u001b[0m \u001b[0msteps_per_epoch\u001b[0m\u001b[0;34m=\u001b[0m\u001b[0;36m800\u001b[0m\u001b[0;34m,\u001b[0m \u001b[0mvalidation_steps\u001b[0m\u001b[0;34m=\u001b[0m\u001b[0;36m40\u001b[0m\u001b[0;34m,\u001b[0m \u001b[0mvalidation_data\u001b[0m\u001b[0;34m=\u001b[0m\u001b[0mvalidation_generator\u001b[0m\u001b[0;34m,\u001b[0m \u001b[0mcallbacks\u001b[0m \u001b[0;34m=\u001b[0m \u001b[0;34m[\u001b[0m\u001b[0mcheckpoint\u001b[0m\u001b[0;34m]\u001b[0m\u001b[0;34m)\u001b[0m\u001b[0;34m\u001b[0m\u001b[0;34m\u001b[0m\u001b[0m\n\u001b[0m",
            "\u001b[0;32m/usr/local/lib/python3.6/dist-packages/keras/legacy/interfaces.py\u001b[0m in \u001b[0;36mwrapper\u001b[0;34m(*args, **kwargs)\u001b[0m\n\u001b[1;32m     89\u001b[0m                 warnings.warn('Update your `' + object_name + '` call to the ' +\n\u001b[1;32m     90\u001b[0m                               'Keras 2 API: ' + signature, stacklevel=2)\n\u001b[0;32m---> 91\u001b[0;31m             \u001b[0;32mreturn\u001b[0m \u001b[0mfunc\u001b[0m\u001b[0;34m(\u001b[0m\u001b[0;34m*\u001b[0m\u001b[0margs\u001b[0m\u001b[0;34m,\u001b[0m \u001b[0;34m**\u001b[0m\u001b[0mkwargs\u001b[0m\u001b[0;34m)\u001b[0m\u001b[0;34m\u001b[0m\u001b[0;34m\u001b[0m\u001b[0m\n\u001b[0m\u001b[1;32m     92\u001b[0m         \u001b[0mwrapper\u001b[0m\u001b[0;34m.\u001b[0m\u001b[0m_original_function\u001b[0m \u001b[0;34m=\u001b[0m \u001b[0mfunc\u001b[0m\u001b[0;34m\u001b[0m\u001b[0;34m\u001b[0m\u001b[0m\n\u001b[1;32m     93\u001b[0m         \u001b[0;32mreturn\u001b[0m \u001b[0mwrapper\u001b[0m\u001b[0;34m\u001b[0m\u001b[0;34m\u001b[0m\u001b[0m\n",
            "\u001b[0;32m/usr/local/lib/python3.6/dist-packages/keras/engine/training.py\u001b[0m in \u001b[0;36mfit_generator\u001b[0;34m(self, generator, steps_per_epoch, epochs, verbose, callbacks, validation_data, validation_steps, class_weight, max_queue_size, workers, use_multiprocessing, shuffle, initial_epoch)\u001b[0m\n\u001b[1;32m   1416\u001b[0m             \u001b[0muse_multiprocessing\u001b[0m\u001b[0;34m=\u001b[0m\u001b[0muse_multiprocessing\u001b[0m\u001b[0;34m,\u001b[0m\u001b[0;34m\u001b[0m\u001b[0;34m\u001b[0m\u001b[0m\n\u001b[1;32m   1417\u001b[0m             \u001b[0mshuffle\u001b[0m\u001b[0;34m=\u001b[0m\u001b[0mshuffle\u001b[0m\u001b[0;34m,\u001b[0m\u001b[0;34m\u001b[0m\u001b[0;34m\u001b[0m\u001b[0m\n\u001b[0;32m-> 1418\u001b[0;31m             initial_epoch=initial_epoch)\n\u001b[0m\u001b[1;32m   1419\u001b[0m \u001b[0;34m\u001b[0m\u001b[0m\n\u001b[1;32m   1420\u001b[0m     \u001b[0;34m@\u001b[0m\u001b[0minterfaces\u001b[0m\u001b[0;34m.\u001b[0m\u001b[0mlegacy_generator_methods_support\u001b[0m\u001b[0;34m\u001b[0m\u001b[0;34m\u001b[0m\u001b[0m\n",
            "\u001b[0;32m/usr/local/lib/python3.6/dist-packages/keras/engine/training_generator.py\u001b[0m in \u001b[0;36mfit_generator\u001b[0;34m(model, generator, steps_per_epoch, epochs, verbose, callbacks, validation_data, validation_steps, class_weight, max_queue_size, workers, use_multiprocessing, shuffle, initial_epoch)\u001b[0m\n\u001b[1;32m    215\u001b[0m                 outs = model.train_on_batch(x, y,\n\u001b[1;32m    216\u001b[0m                                             \u001b[0msample_weight\u001b[0m\u001b[0;34m=\u001b[0m\u001b[0msample_weight\u001b[0m\u001b[0;34m,\u001b[0m\u001b[0;34m\u001b[0m\u001b[0;34m\u001b[0m\u001b[0m\n\u001b[0;32m--> 217\u001b[0;31m                                             class_weight=class_weight)\n\u001b[0m\u001b[1;32m    218\u001b[0m \u001b[0;34m\u001b[0m\u001b[0m\n\u001b[1;32m    219\u001b[0m                 \u001b[0mouts\u001b[0m \u001b[0;34m=\u001b[0m \u001b[0mto_list\u001b[0m\u001b[0;34m(\u001b[0m\u001b[0mouts\u001b[0m\u001b[0;34m)\u001b[0m\u001b[0;34m\u001b[0m\u001b[0;34m\u001b[0m\u001b[0m\n",
            "\u001b[0;32m/usr/local/lib/python3.6/dist-packages/keras/engine/training.py\u001b[0m in \u001b[0;36mtrain_on_batch\u001b[0;34m(self, x, y, sample_weight, class_weight)\u001b[0m\n\u001b[1;32m   1215\u001b[0m             \u001b[0mins\u001b[0m \u001b[0;34m=\u001b[0m \u001b[0mx\u001b[0m \u001b[0;34m+\u001b[0m \u001b[0my\u001b[0m \u001b[0;34m+\u001b[0m \u001b[0msample_weights\u001b[0m\u001b[0;34m\u001b[0m\u001b[0;34m\u001b[0m\u001b[0m\n\u001b[1;32m   1216\u001b[0m         \u001b[0mself\u001b[0m\u001b[0;34m.\u001b[0m\u001b[0m_make_train_function\u001b[0m\u001b[0;34m(\u001b[0m\u001b[0;34m)\u001b[0m\u001b[0;34m\u001b[0m\u001b[0;34m\u001b[0m\u001b[0m\n\u001b[0;32m-> 1217\u001b[0;31m         \u001b[0moutputs\u001b[0m \u001b[0;34m=\u001b[0m \u001b[0mself\u001b[0m\u001b[0;34m.\u001b[0m\u001b[0mtrain_function\u001b[0m\u001b[0;34m(\u001b[0m\u001b[0mins\u001b[0m\u001b[0;34m)\u001b[0m\u001b[0;34m\u001b[0m\u001b[0;34m\u001b[0m\u001b[0m\n\u001b[0m\u001b[1;32m   1218\u001b[0m         \u001b[0;32mreturn\u001b[0m \u001b[0munpack_singleton\u001b[0m\u001b[0;34m(\u001b[0m\u001b[0moutputs\u001b[0m\u001b[0;34m)\u001b[0m\u001b[0;34m\u001b[0m\u001b[0;34m\u001b[0m\u001b[0m\n\u001b[1;32m   1219\u001b[0m \u001b[0;34m\u001b[0m\u001b[0m\n",
            "\u001b[0;32m/usr/local/lib/python3.6/dist-packages/keras/backend/tensorflow_backend.py\u001b[0m in \u001b[0;36m__call__\u001b[0;34m(self, inputs)\u001b[0m\n\u001b[1;32m   2713\u001b[0m                 \u001b[0;32mreturn\u001b[0m \u001b[0mself\u001b[0m\u001b[0;34m.\u001b[0m\u001b[0m_legacy_call\u001b[0m\u001b[0;34m(\u001b[0m\u001b[0minputs\u001b[0m\u001b[0;34m)\u001b[0m\u001b[0;34m\u001b[0m\u001b[0;34m\u001b[0m\u001b[0m\n\u001b[1;32m   2714\u001b[0m \u001b[0;34m\u001b[0m\u001b[0m\n\u001b[0;32m-> 2715\u001b[0;31m             \u001b[0;32mreturn\u001b[0m \u001b[0mself\u001b[0m\u001b[0;34m.\u001b[0m\u001b[0m_call\u001b[0m\u001b[0;34m(\u001b[0m\u001b[0minputs\u001b[0m\u001b[0;34m)\u001b[0m\u001b[0;34m\u001b[0m\u001b[0;34m\u001b[0m\u001b[0m\n\u001b[0m\u001b[1;32m   2716\u001b[0m         \u001b[0;32melse\u001b[0m\u001b[0;34m:\u001b[0m\u001b[0;34m\u001b[0m\u001b[0;34m\u001b[0m\u001b[0m\n\u001b[1;32m   2717\u001b[0m             \u001b[0;32mif\u001b[0m \u001b[0mpy_any\u001b[0m\u001b[0;34m(\u001b[0m\u001b[0mis_tensor\u001b[0m\u001b[0;34m(\u001b[0m\u001b[0mx\u001b[0m\u001b[0;34m)\u001b[0m \u001b[0;32mfor\u001b[0m \u001b[0mx\u001b[0m \u001b[0;32min\u001b[0m \u001b[0minputs\u001b[0m\u001b[0;34m)\u001b[0m\u001b[0;34m:\u001b[0m\u001b[0;34m\u001b[0m\u001b[0;34m\u001b[0m\u001b[0m\n",
            "\u001b[0;32m/usr/local/lib/python3.6/dist-packages/keras/backend/tensorflow_backend.py\u001b[0m in \u001b[0;36m_call\u001b[0;34m(self, inputs)\u001b[0m\n\u001b[1;32m   2673\u001b[0m             \u001b[0mfetched\u001b[0m \u001b[0;34m=\u001b[0m \u001b[0mself\u001b[0m\u001b[0;34m.\u001b[0m\u001b[0m_callable_fn\u001b[0m\u001b[0;34m(\u001b[0m\u001b[0;34m*\u001b[0m\u001b[0marray_vals\u001b[0m\u001b[0;34m,\u001b[0m \u001b[0mrun_metadata\u001b[0m\u001b[0;34m=\u001b[0m\u001b[0mself\u001b[0m\u001b[0;34m.\u001b[0m\u001b[0mrun_metadata\u001b[0m\u001b[0;34m)\u001b[0m\u001b[0;34m\u001b[0m\u001b[0;34m\u001b[0m\u001b[0m\n\u001b[1;32m   2674\u001b[0m         \u001b[0;32melse\u001b[0m\u001b[0;34m:\u001b[0m\u001b[0;34m\u001b[0m\u001b[0;34m\u001b[0m\u001b[0m\n\u001b[0;32m-> 2675\u001b[0;31m             \u001b[0mfetched\u001b[0m \u001b[0;34m=\u001b[0m \u001b[0mself\u001b[0m\u001b[0;34m.\u001b[0m\u001b[0m_callable_fn\u001b[0m\u001b[0;34m(\u001b[0m\u001b[0;34m*\u001b[0m\u001b[0marray_vals\u001b[0m\u001b[0;34m)\u001b[0m\u001b[0;34m\u001b[0m\u001b[0;34m\u001b[0m\u001b[0m\n\u001b[0m\u001b[1;32m   2676\u001b[0m         \u001b[0;32mreturn\u001b[0m \u001b[0mfetched\u001b[0m\u001b[0;34m[\u001b[0m\u001b[0;34m:\u001b[0m\u001b[0mlen\u001b[0m\u001b[0;34m(\u001b[0m\u001b[0mself\u001b[0m\u001b[0;34m.\u001b[0m\u001b[0moutputs\u001b[0m\u001b[0;34m)\u001b[0m\u001b[0;34m]\u001b[0m\u001b[0;34m\u001b[0m\u001b[0;34m\u001b[0m\u001b[0m\n\u001b[1;32m   2677\u001b[0m \u001b[0;34m\u001b[0m\u001b[0m\n",
            "\u001b[0;32m/usr/local/lib/python3.6/dist-packages/tensorflow/python/client/session.py\u001b[0m in \u001b[0;36m__call__\u001b[0;34m(self, *args, **kwargs)\u001b[0m\n\u001b[1;32m   1437\u001b[0m           ret = tf_session.TF_SessionRunCallable(\n\u001b[1;32m   1438\u001b[0m               \u001b[0mself\u001b[0m\u001b[0;34m.\u001b[0m\u001b[0m_session\u001b[0m\u001b[0;34m.\u001b[0m\u001b[0m_session\u001b[0m\u001b[0;34m,\u001b[0m \u001b[0mself\u001b[0m\u001b[0;34m.\u001b[0m\u001b[0m_handle\u001b[0m\u001b[0;34m,\u001b[0m \u001b[0margs\u001b[0m\u001b[0;34m,\u001b[0m \u001b[0mstatus\u001b[0m\u001b[0;34m,\u001b[0m\u001b[0;34m\u001b[0m\u001b[0;34m\u001b[0m\u001b[0m\n\u001b[0;32m-> 1439\u001b[0;31m               run_metadata_ptr)\n\u001b[0m\u001b[1;32m   1440\u001b[0m         \u001b[0;32mif\u001b[0m \u001b[0mrun_metadata\u001b[0m\u001b[0;34m:\u001b[0m\u001b[0;34m\u001b[0m\u001b[0;34m\u001b[0m\u001b[0m\n\u001b[1;32m   1441\u001b[0m           \u001b[0mproto_data\u001b[0m \u001b[0;34m=\u001b[0m \u001b[0mtf_session\u001b[0m\u001b[0;34m.\u001b[0m\u001b[0mTF_GetBuffer\u001b[0m\u001b[0;34m(\u001b[0m\u001b[0mrun_metadata_ptr\u001b[0m\u001b[0;34m)\u001b[0m\u001b[0;34m\u001b[0m\u001b[0;34m\u001b[0m\u001b[0m\n",
            "\u001b[0;31mKeyboardInterrupt\u001b[0m: "
          ]
        }
      ]
    },
    {
      "cell_type": "code",
      "metadata": {
        "id": "a-5g_I6cxBGR",
        "colab_type": "code",
        "outputId": "5fead38b-d6f8-4152-e097-b3f0a9170ccc",
        "colab": {
          "base_uri": "https://localhost:8080/",
          "height": 34
        }
      },
      "source": [
        "seq = iaa.Sometimes(0.7, iaa.SomeOf((2, None), [\n",
        "    iaa.Fliplr(),\n",
        "    iaa.GaussianBlur(sigma=(0.01, 1.5)),\n",
        "    iaa.Multiply((0.5, 1.5)),\n",
        "    iaa.CoarseDropout((0.01, 0.05), size_percent=(0.02, 0.05)),\n",
        "    iaa.Affine(rotate=(-30,30))\n",
        "], random_order=False))\n",
        "\n",
        "train_datagen = ImageDataGenerator(rescale= 1./255, preprocessing_function=seq.augment_image)\n",
        "\n",
        "train_generator = train_datagen.flow_from_directory( r'./tiny-imagenet-200/train/', target_size=(64, 64), color_mode='rgb', \n",
        "                                                    batch_size=128, class_mode='categorical', shuffle=True, seed=42)"
      ],
      "execution_count": 0,
      "outputs": [
        {
          "output_type": "stream",
          "text": [
            "Found 100000 images belonging to 200 classes.\n"
          ],
          "name": "stdout"
        }
      ]
    },
    {
      "cell_type": "code",
      "metadata": {
        "id": "Yxck9XAyxLbR",
        "colab_type": "code",
        "outputId": "5ec2e3c3-54b2-4803-f9f3-2dd270e4cce9",
        "colab": {
          "base_uri": "https://localhost:8080/",
          "height": 1299
        }
      },
      "source": [
        "filepath = \"/content/gdrive/My Drive/weights/asgn4-augment-epochs:{epoch:03d}-val_acc:{val_acc:.3f}.hdf5\"\n",
        "checkpoint = ModelCheckpoint(filepath, save_weights_only=True, verbose=1)\n",
        "\n",
        "model.fit_generator(train_generator, epochs=5, steps_per_epoch=800, validation_steps=40, validation_data=validation_generator, callbacks = [checkpoint])"
      ],
      "execution_count": 0,
      "outputs": [
        {
          "output_type": "stream",
          "text": [
            "Epoch 1/5\n",
            "800/800 [==============================] - 3380s 4s/step - loss: 0.9995 - acc: 0.7367 - val_loss: 2.4656 - val_acc: 0.4995\n",
            "\n",
            "Epoch 00001: saving model to /content/gdrive/My Drive/weights/asgn4-augment-epochs:001-val_acc:0.499.hdf5\n",
            "Epoch 2/5\n",
            "800/800 [==============================] - 3375s 4s/step - loss: 0.8090 - acc: 0.7861 - val_loss: 2.3791 - val_acc: 0.5189\n",
            "\n",
            "Epoch 00002: saving model to /content/gdrive/My Drive/weights/asgn4-augment-epochs:002-val_acc:0.519.hdf5\n",
            "Epoch 3/5\n",
            "800/800 [==============================] - 3375s 4s/step - loss: 0.7111 - acc: 0.8109 - val_loss: 2.4221 - val_acc: 0.5103\n",
            "\n",
            "Epoch 00003: saving model to /content/gdrive/My Drive/weights/asgn4-augment-epochs:003-val_acc:0.510.hdf5\n",
            "Epoch 4/5\n",
            " 59/800 [=>............................] - ETA: 51:15 - loss: 0.6269 - acc: 0.8304"
          ],
          "name": "stdout"
        },
        {
          "output_type": "error",
          "ename": "KeyboardInterrupt",
          "evalue": "ignored",
          "traceback": [
            "\u001b[0;31m---------------------------------------------------------------------------\u001b[0m",
            "\u001b[0;31mKeyboardInterrupt\u001b[0m                         Traceback (most recent call last)",
            "\u001b[0;32m<ipython-input-18-ccc85c9bd575>\u001b[0m in \u001b[0;36m<module>\u001b[0;34m()\u001b[0m\n\u001b[1;32m      2\u001b[0m \u001b[0mcheckpoint\u001b[0m \u001b[0;34m=\u001b[0m \u001b[0mModelCheckpoint\u001b[0m\u001b[0;34m(\u001b[0m\u001b[0mfilepath\u001b[0m\u001b[0;34m,\u001b[0m \u001b[0msave_weights_only\u001b[0m\u001b[0;34m=\u001b[0m\u001b[0;32mTrue\u001b[0m\u001b[0;34m,\u001b[0m \u001b[0mverbose\u001b[0m\u001b[0;34m=\u001b[0m\u001b[0;36m1\u001b[0m\u001b[0;34m)\u001b[0m\u001b[0;34m\u001b[0m\u001b[0;34m\u001b[0m\u001b[0m\n\u001b[1;32m      3\u001b[0m \u001b[0;34m\u001b[0m\u001b[0m\n\u001b[0;32m----> 4\u001b[0;31m \u001b[0mmodel\u001b[0m\u001b[0;34m.\u001b[0m\u001b[0mfit_generator\u001b[0m\u001b[0;34m(\u001b[0m\u001b[0mtrain_generator\u001b[0m\u001b[0;34m,\u001b[0m \u001b[0mepochs\u001b[0m\u001b[0;34m=\u001b[0m\u001b[0;36m5\u001b[0m\u001b[0;34m,\u001b[0m \u001b[0msteps_per_epoch\u001b[0m\u001b[0;34m=\u001b[0m\u001b[0;36m800\u001b[0m\u001b[0;34m,\u001b[0m \u001b[0mvalidation_steps\u001b[0m\u001b[0;34m=\u001b[0m\u001b[0;36m40\u001b[0m\u001b[0;34m,\u001b[0m \u001b[0mvalidation_data\u001b[0m\u001b[0;34m=\u001b[0m\u001b[0mvalidation_generator\u001b[0m\u001b[0;34m,\u001b[0m \u001b[0mcallbacks\u001b[0m \u001b[0;34m=\u001b[0m \u001b[0;34m[\u001b[0m\u001b[0mcheckpoint\u001b[0m\u001b[0;34m]\u001b[0m\u001b[0;34m)\u001b[0m\u001b[0;34m\u001b[0m\u001b[0;34m\u001b[0m\u001b[0m\n\u001b[0m",
            "\u001b[0;32m/usr/local/lib/python3.6/dist-packages/keras/legacy/interfaces.py\u001b[0m in \u001b[0;36mwrapper\u001b[0;34m(*args, **kwargs)\u001b[0m\n\u001b[1;32m     89\u001b[0m                 warnings.warn('Update your `' + object_name + '` call to the ' +\n\u001b[1;32m     90\u001b[0m                               'Keras 2 API: ' + signature, stacklevel=2)\n\u001b[0;32m---> 91\u001b[0;31m             \u001b[0;32mreturn\u001b[0m \u001b[0mfunc\u001b[0m\u001b[0;34m(\u001b[0m\u001b[0;34m*\u001b[0m\u001b[0margs\u001b[0m\u001b[0;34m,\u001b[0m \u001b[0;34m**\u001b[0m\u001b[0mkwargs\u001b[0m\u001b[0;34m)\u001b[0m\u001b[0;34m\u001b[0m\u001b[0;34m\u001b[0m\u001b[0m\n\u001b[0m\u001b[1;32m     92\u001b[0m         \u001b[0mwrapper\u001b[0m\u001b[0;34m.\u001b[0m\u001b[0m_original_function\u001b[0m \u001b[0;34m=\u001b[0m \u001b[0mfunc\u001b[0m\u001b[0;34m\u001b[0m\u001b[0;34m\u001b[0m\u001b[0m\n\u001b[1;32m     93\u001b[0m         \u001b[0;32mreturn\u001b[0m \u001b[0mwrapper\u001b[0m\u001b[0;34m\u001b[0m\u001b[0;34m\u001b[0m\u001b[0m\n",
            "\u001b[0;32m/usr/local/lib/python3.6/dist-packages/keras/engine/training.py\u001b[0m in \u001b[0;36mfit_generator\u001b[0;34m(self, generator, steps_per_epoch, epochs, verbose, callbacks, validation_data, validation_steps, class_weight, max_queue_size, workers, use_multiprocessing, shuffle, initial_epoch)\u001b[0m\n\u001b[1;32m   1416\u001b[0m             \u001b[0muse_multiprocessing\u001b[0m\u001b[0;34m=\u001b[0m\u001b[0muse_multiprocessing\u001b[0m\u001b[0;34m,\u001b[0m\u001b[0;34m\u001b[0m\u001b[0;34m\u001b[0m\u001b[0m\n\u001b[1;32m   1417\u001b[0m             \u001b[0mshuffle\u001b[0m\u001b[0;34m=\u001b[0m\u001b[0mshuffle\u001b[0m\u001b[0;34m,\u001b[0m\u001b[0;34m\u001b[0m\u001b[0;34m\u001b[0m\u001b[0m\n\u001b[0;32m-> 1418\u001b[0;31m             initial_epoch=initial_epoch)\n\u001b[0m\u001b[1;32m   1419\u001b[0m \u001b[0;34m\u001b[0m\u001b[0m\n\u001b[1;32m   1420\u001b[0m     \u001b[0;34m@\u001b[0m\u001b[0minterfaces\u001b[0m\u001b[0;34m.\u001b[0m\u001b[0mlegacy_generator_methods_support\u001b[0m\u001b[0;34m\u001b[0m\u001b[0;34m\u001b[0m\u001b[0m\n",
            "\u001b[0;32m/usr/local/lib/python3.6/dist-packages/keras/engine/training_generator.py\u001b[0m in \u001b[0;36mfit_generator\u001b[0;34m(model, generator, steps_per_epoch, epochs, verbose, callbacks, validation_data, validation_steps, class_weight, max_queue_size, workers, use_multiprocessing, shuffle, initial_epoch)\u001b[0m\n\u001b[1;32m    215\u001b[0m                 outs = model.train_on_batch(x, y,\n\u001b[1;32m    216\u001b[0m                                             \u001b[0msample_weight\u001b[0m\u001b[0;34m=\u001b[0m\u001b[0msample_weight\u001b[0m\u001b[0;34m,\u001b[0m\u001b[0;34m\u001b[0m\u001b[0;34m\u001b[0m\u001b[0m\n\u001b[0;32m--> 217\u001b[0;31m                                             class_weight=class_weight)\n\u001b[0m\u001b[1;32m    218\u001b[0m \u001b[0;34m\u001b[0m\u001b[0m\n\u001b[1;32m    219\u001b[0m                 \u001b[0mouts\u001b[0m \u001b[0;34m=\u001b[0m \u001b[0mto_list\u001b[0m\u001b[0;34m(\u001b[0m\u001b[0mouts\u001b[0m\u001b[0;34m)\u001b[0m\u001b[0;34m\u001b[0m\u001b[0;34m\u001b[0m\u001b[0m\n",
            "\u001b[0;32m/usr/local/lib/python3.6/dist-packages/keras/engine/training.py\u001b[0m in \u001b[0;36mtrain_on_batch\u001b[0;34m(self, x, y, sample_weight, class_weight)\u001b[0m\n\u001b[1;32m   1215\u001b[0m             \u001b[0mins\u001b[0m \u001b[0;34m=\u001b[0m \u001b[0mx\u001b[0m \u001b[0;34m+\u001b[0m \u001b[0my\u001b[0m \u001b[0;34m+\u001b[0m \u001b[0msample_weights\u001b[0m\u001b[0;34m\u001b[0m\u001b[0;34m\u001b[0m\u001b[0m\n\u001b[1;32m   1216\u001b[0m         \u001b[0mself\u001b[0m\u001b[0;34m.\u001b[0m\u001b[0m_make_train_function\u001b[0m\u001b[0;34m(\u001b[0m\u001b[0;34m)\u001b[0m\u001b[0;34m\u001b[0m\u001b[0;34m\u001b[0m\u001b[0m\n\u001b[0;32m-> 1217\u001b[0;31m         \u001b[0moutputs\u001b[0m \u001b[0;34m=\u001b[0m \u001b[0mself\u001b[0m\u001b[0;34m.\u001b[0m\u001b[0mtrain_function\u001b[0m\u001b[0;34m(\u001b[0m\u001b[0mins\u001b[0m\u001b[0;34m)\u001b[0m\u001b[0;34m\u001b[0m\u001b[0;34m\u001b[0m\u001b[0m\n\u001b[0m\u001b[1;32m   1218\u001b[0m         \u001b[0;32mreturn\u001b[0m \u001b[0munpack_singleton\u001b[0m\u001b[0;34m(\u001b[0m\u001b[0moutputs\u001b[0m\u001b[0;34m)\u001b[0m\u001b[0;34m\u001b[0m\u001b[0;34m\u001b[0m\u001b[0m\n\u001b[1;32m   1219\u001b[0m \u001b[0;34m\u001b[0m\u001b[0m\n",
            "\u001b[0;32m/usr/local/lib/python3.6/dist-packages/keras/backend/tensorflow_backend.py\u001b[0m in \u001b[0;36m__call__\u001b[0;34m(self, inputs)\u001b[0m\n\u001b[1;32m   2713\u001b[0m                 \u001b[0;32mreturn\u001b[0m \u001b[0mself\u001b[0m\u001b[0;34m.\u001b[0m\u001b[0m_legacy_call\u001b[0m\u001b[0;34m(\u001b[0m\u001b[0minputs\u001b[0m\u001b[0;34m)\u001b[0m\u001b[0;34m\u001b[0m\u001b[0;34m\u001b[0m\u001b[0m\n\u001b[1;32m   2714\u001b[0m \u001b[0;34m\u001b[0m\u001b[0m\n\u001b[0;32m-> 2715\u001b[0;31m             \u001b[0;32mreturn\u001b[0m \u001b[0mself\u001b[0m\u001b[0;34m.\u001b[0m\u001b[0m_call\u001b[0m\u001b[0;34m(\u001b[0m\u001b[0minputs\u001b[0m\u001b[0;34m)\u001b[0m\u001b[0;34m\u001b[0m\u001b[0;34m\u001b[0m\u001b[0m\n\u001b[0m\u001b[1;32m   2716\u001b[0m         \u001b[0;32melse\u001b[0m\u001b[0;34m:\u001b[0m\u001b[0;34m\u001b[0m\u001b[0;34m\u001b[0m\u001b[0m\n\u001b[1;32m   2717\u001b[0m             \u001b[0;32mif\u001b[0m \u001b[0mpy_any\u001b[0m\u001b[0;34m(\u001b[0m\u001b[0mis_tensor\u001b[0m\u001b[0;34m(\u001b[0m\u001b[0mx\u001b[0m\u001b[0;34m)\u001b[0m \u001b[0;32mfor\u001b[0m \u001b[0mx\u001b[0m \u001b[0;32min\u001b[0m \u001b[0minputs\u001b[0m\u001b[0;34m)\u001b[0m\u001b[0;34m:\u001b[0m\u001b[0;34m\u001b[0m\u001b[0;34m\u001b[0m\u001b[0m\n",
            "\u001b[0;32m/usr/local/lib/python3.6/dist-packages/keras/backend/tensorflow_backend.py\u001b[0m in \u001b[0;36m_call\u001b[0;34m(self, inputs)\u001b[0m\n\u001b[1;32m   2673\u001b[0m             \u001b[0mfetched\u001b[0m \u001b[0;34m=\u001b[0m \u001b[0mself\u001b[0m\u001b[0;34m.\u001b[0m\u001b[0m_callable_fn\u001b[0m\u001b[0;34m(\u001b[0m\u001b[0;34m*\u001b[0m\u001b[0marray_vals\u001b[0m\u001b[0;34m,\u001b[0m \u001b[0mrun_metadata\u001b[0m\u001b[0;34m=\u001b[0m\u001b[0mself\u001b[0m\u001b[0;34m.\u001b[0m\u001b[0mrun_metadata\u001b[0m\u001b[0;34m)\u001b[0m\u001b[0;34m\u001b[0m\u001b[0;34m\u001b[0m\u001b[0m\n\u001b[1;32m   2674\u001b[0m         \u001b[0;32melse\u001b[0m\u001b[0;34m:\u001b[0m\u001b[0;34m\u001b[0m\u001b[0;34m\u001b[0m\u001b[0m\n\u001b[0;32m-> 2675\u001b[0;31m             \u001b[0mfetched\u001b[0m \u001b[0;34m=\u001b[0m \u001b[0mself\u001b[0m\u001b[0;34m.\u001b[0m\u001b[0m_callable_fn\u001b[0m\u001b[0;34m(\u001b[0m\u001b[0;34m*\u001b[0m\u001b[0marray_vals\u001b[0m\u001b[0;34m)\u001b[0m\u001b[0;34m\u001b[0m\u001b[0;34m\u001b[0m\u001b[0m\n\u001b[0m\u001b[1;32m   2676\u001b[0m         \u001b[0;32mreturn\u001b[0m \u001b[0mfetched\u001b[0m\u001b[0;34m[\u001b[0m\u001b[0;34m:\u001b[0m\u001b[0mlen\u001b[0m\u001b[0;34m(\u001b[0m\u001b[0mself\u001b[0m\u001b[0;34m.\u001b[0m\u001b[0moutputs\u001b[0m\u001b[0;34m)\u001b[0m\u001b[0;34m]\u001b[0m\u001b[0;34m\u001b[0m\u001b[0;34m\u001b[0m\u001b[0m\n\u001b[1;32m   2677\u001b[0m \u001b[0;34m\u001b[0m\u001b[0m\n",
            "\u001b[0;32m/usr/local/lib/python3.6/dist-packages/tensorflow/python/client/session.py\u001b[0m in \u001b[0;36m__call__\u001b[0;34m(self, *args, **kwargs)\u001b[0m\n\u001b[1;32m   1437\u001b[0m           ret = tf_session.TF_SessionRunCallable(\n\u001b[1;32m   1438\u001b[0m               \u001b[0mself\u001b[0m\u001b[0;34m.\u001b[0m\u001b[0m_session\u001b[0m\u001b[0;34m.\u001b[0m\u001b[0m_session\u001b[0m\u001b[0;34m,\u001b[0m \u001b[0mself\u001b[0m\u001b[0;34m.\u001b[0m\u001b[0m_handle\u001b[0m\u001b[0;34m,\u001b[0m \u001b[0margs\u001b[0m\u001b[0;34m,\u001b[0m \u001b[0mstatus\u001b[0m\u001b[0;34m,\u001b[0m\u001b[0;34m\u001b[0m\u001b[0;34m\u001b[0m\u001b[0m\n\u001b[0;32m-> 1439\u001b[0;31m               run_metadata_ptr)\n\u001b[0m\u001b[1;32m   1440\u001b[0m         \u001b[0;32mif\u001b[0m \u001b[0mrun_metadata\u001b[0m\u001b[0;34m:\u001b[0m\u001b[0;34m\u001b[0m\u001b[0;34m\u001b[0m\u001b[0m\n\u001b[1;32m   1441\u001b[0m           \u001b[0mproto_data\u001b[0m \u001b[0;34m=\u001b[0m \u001b[0mtf_session\u001b[0m\u001b[0;34m.\u001b[0m\u001b[0mTF_GetBuffer\u001b[0m\u001b[0;34m(\u001b[0m\u001b[0mrun_metadata_ptr\u001b[0m\u001b[0;34m)\u001b[0m\u001b[0;34m\u001b[0m\u001b[0;34m\u001b[0m\u001b[0m\n",
            "\u001b[0;31mKeyboardInterrupt\u001b[0m: "
          ]
        }
      ]
    },
    {
      "cell_type": "code",
      "metadata": {
        "id": "MVF3P62AURI9",
        "colab_type": "code",
        "outputId": "856132b6-ae5f-4aee-b448-0803aa4d3ce8",
        "colab": {
          "base_uri": "https://localhost:8080/",
          "height": 34
        }
      },
      "source": [
        "seq = iaa.Sometimes(0.7, iaa.SomeOf((3, None), [\n",
        "    iaa.AdditiveGaussianNoise(scale=(0.02*255, 0.10*255)),\n",
        "    iaa.Fliplr(),\n",
        "    iaa.GaussianBlur(sigma=(0.01, 1.5)),\n",
        "    iaa.Multiply((0.5, 1.5)),\n",
        "    iaa.CoarseDropout((0.01, 0.05), size_percent=(0.02, 0.05)),\n",
        "    iaa.Affine(rotate=(-30,30))\n",
        "], random_order=True))\n",
        "\n",
        "train_datagen = ImageDataGenerator(rescale= 1./255, preprocessing_function=seq.augment_image)\n",
        "\n",
        "train_generator = train_datagen.flow_from_directory( r'./tiny-imagenet-200/train/', target_size=(64, 64), color_mode='rgb', \n",
        "                                                    batch_size=128, class_mode='categorical', shuffle=True, seed=42)"
      ],
      "execution_count": 0,
      "outputs": [
        {
          "output_type": "stream",
          "text": [
            "Found 100000 images belonging to 200 classes.\n"
          ],
          "name": "stdout"
        }
      ]
    },
    {
      "cell_type": "code",
      "metadata": {
        "id": "Wk9KsSWTI95-",
        "colab_type": "code",
        "outputId": "a6803b78-0cc9-4df7-86b0-b882ffcbf5ee",
        "colab": {
          "base_uri": "https://localhost:8080/",
          "height": 655
        }
      },
      "source": [
        "filepath = \"/content/gdrive/My Drive/weights/asgn4-augment-epochs:{epoch:03d}-val_acc:{val_acc:.3f}.hdf5\"\n",
        "checkpoint = ModelCheckpoint(filepath, save_weights_only=True, verbose=1)\n",
        "reduce_lr = ReduceLROnPlateau(monitor='val_loss', factor=0.2,\n",
        "                              patience=2, min_lr=1e-6)\n",
        "model.fit_generator(train_generator, epochs=10, steps_per_epoch=400, validation_steps=40, validation_data=validation_generator, callbacks = [checkpoint, reduce_lr])"
      ],
      "execution_count": 0,
      "outputs": [
        {
          "output_type": "stream",
          "text": [
            "Epoch 1/10\n",
            "400/400 [==============================] - 1722s 4s/step - loss: 1.1488 - acc: 0.7016 - val_loss: 2.5455 - val_acc: 0.4882\n",
            "\n",
            "Epoch 00001: saving model to /content/gdrive/My Drive/weights/asgn4-augment-epochs:001-val_acc:0.488.hdf5\n",
            "Epoch 2/10\n",
            "400/400 [==============================] - 1717s 4s/step - loss: 1.1417 - acc: 0.7044 - val_loss: 2.5908 - val_acc: 0.4931\n",
            "\n",
            "Epoch 00002: saving model to /content/gdrive/My Drive/weights/asgn4-augment-epochs:002-val_acc:0.493.hdf5\n",
            "Epoch 3/10\n",
            "400/400 [==============================] - 1720s 4s/step - loss: 0.9772 - acc: 0.7447 - val_loss: 2.5670 - val_acc: 0.4944\n",
            "\n",
            "Epoch 00003: saving model to /content/gdrive/My Drive/weights/asgn4-augment-epochs:003-val_acc:0.494.hdf5\n",
            "Epoch 4/10\n",
            "400/400 [==============================] - 1716s 4s/step - loss: 0.8376 - acc: 0.7840 - val_loss: 2.2846 - val_acc: 0.5358\n",
            "\n",
            "Epoch 00004: saving model to /content/gdrive/My Drive/weights/asgn4-augment-epochs:004-val_acc:0.536.hdf5\n",
            "Epoch 5/10\n",
            "400/400 [==============================] - 1718s 4s/step - loss: 0.6510 - acc: 0.8325 - val_loss: 2.2627 - val_acc: 0.5413\n",
            "\n",
            "Epoch 00005: saving model to /content/gdrive/My Drive/weights/asgn4-augment-epochs:005-val_acc:0.541.hdf5\n",
            "Epoch 6/10\n",
            "400/400 [==============================] - 1717s 4s/step - loss: 0.6086 - acc: 0.8437 - val_loss: 2.2481 - val_acc: 0.5376\n",
            "\n",
            "Epoch 00006: saving model to /content/gdrive/My Drive/weights/asgn4-augment-epochs:006-val_acc:0.538.hdf5\n",
            "Epoch 7/10\n",
            "400/400 [==============================] - 1720s 4s/step - loss: 0.6111 - acc: 0.8424 - val_loss: 2.2572 - val_acc: 0.5478\n",
            "\n",
            "Epoch 00007: saving model to /content/gdrive/My Drive/weights/asgn4-augment-epochs:007-val_acc:0.548.hdf5\n",
            "Epoch 8/10\n",
            "400/400 [==============================] - 1716s 4s/step - loss: 0.5838 - acc: 0.8499 - val_loss: 2.2522 - val_acc: 0.5454\n",
            "\n",
            "Epoch 00008: saving model to /content/gdrive/My Drive/weights/asgn4-augment-epochs:008-val_acc:0.545.hdf5\n",
            "Epoch 9/10\n",
            "400/400 [==============================] - 1720s 4s/step - loss: 0.5465 - acc: 0.8598 - val_loss: 2.2297 - val_acc: 0.5463\n",
            "\n",
            "Epoch 00009: saving model to /content/gdrive/My Drive/weights/asgn4-augment-epochs:009-val_acc:0.546.hdf5\n",
            "Epoch 10/10\n",
            "371/400 [==========================>...] - ETA: 2:00 - loss: 0.5219 - acc: 0.8661"
          ],
          "name": "stdout"
        }
      ]
    },
    {
      "cell_type": "code",
      "metadata": {
        "id": "rVaJaVzVLEdx",
        "colab_type": "code",
        "outputId": "bf978567-e63f-49a6-bc7a-b63f2450dd61",
        "colab": {
          "base_uri": "https://localhost:8080/",
          "height": 289
        }
      },
      "source": [
        "!pip install git+https://www.github.com/keras-team/keras-contrib.git"
      ],
      "execution_count": 0,
      "outputs": [
        {
          "output_type": "stream",
          "text": [
            "Collecting git+https://www.github.com/keras-team/keras-contrib.git\n",
            "  Cloning https://www.github.com/keras-team/keras-contrib.git to /tmp/pip-req-build-dvqjrwx8\n",
            "Requirement already satisfied: keras in /usr/local/lib/python3.6/dist-packages (from keras-contrib==2.0.8) (2.2.4)\n",
            "Requirement already satisfied: h5py in /usr/local/lib/python3.6/dist-packages (from keras->keras-contrib==2.0.8) (2.8.0)\n",
            "Requirement already satisfied: keras-preprocessing>=1.0.5 in /usr/local/lib/python3.6/dist-packages (from keras->keras-contrib==2.0.8) (1.0.9)\n",
            "Requirement already satisfied: numpy>=1.9.1 in /usr/local/lib/python3.6/dist-packages (from keras->keras-contrib==2.0.8) (1.16.2)\n",
            "Requirement already satisfied: scipy>=0.14 in /usr/local/lib/python3.6/dist-packages (from keras->keras-contrib==2.0.8) (1.1.0)\n",
            "Requirement already satisfied: keras-applications>=1.0.6 in /usr/local/lib/python3.6/dist-packages (from keras->keras-contrib==2.0.8) (1.0.7)\n",
            "Requirement already satisfied: pyyaml in /usr/local/lib/python3.6/dist-packages (from keras->keras-contrib==2.0.8) (3.13)\n",
            "Requirement already satisfied: six>=1.9.0 in /usr/local/lib/python3.6/dist-packages (from keras->keras-contrib==2.0.8) (1.11.0)\n",
            "Building wheels for collected packages: keras-contrib\n",
            "  Building wheel for keras-contrib (setup.py) ... \u001b[?25ldone\n",
            "\u001b[?25h  Stored in directory: /tmp/pip-ephem-wheel-cache-ibcfzlfm/wheels/11/27/c8/4ed56de7b55f4f61244e2dc6ef3cdbaff2692527a2ce6502ba\n",
            "Successfully built keras-contrib\n",
            "Installing collected packages: keras-contrib\n",
            "Successfully installed keras-contrib-2.0.8\n"
          ],
          "name": "stdout"
        }
      ]
    },
    {
      "cell_type": "code",
      "metadata": {
        "id": "kDT56s-zL3kM",
        "colab_type": "code",
        "colab": {}
      },
      "source": [
        "import keras_contrib\n",
        "from keras_contrib.callbacks.cyclical_learning_rate import CyclicLR"
      ],
      "execution_count": 0,
      "outputs": []
    },
    {
      "cell_type": "code",
      "metadata": {
        "id": "zQqP0zFnHWP5",
        "colab_type": "code",
        "colab": {}
      },
      "source": [
        "model.load_weights('/content/gdrive/My Drive/weights/asgn4-augment-epochs:007-val_acc:0.548.hdf5')\n",
        "\n",
        "model.compile(loss='categorical_crossentropy',\n",
        "              optimizer=SGD(lr=0.01, momentum=0.7, nesterov=True),\n",
        "              metrics=['accuracy'])"
      ],
      "execution_count": 0,
      "outputs": []
    },
    {
      "cell_type": "code",
      "metadata": {
        "id": "LZ4XGIvLIy0N",
        "colab_type": "code",
        "outputId": "61d867d4-12d8-4469-cb75-569bb8f86e5e",
        "colab": {
          "base_uri": "https://localhost:8080/",
          "height": 34
        }
      },
      "source": [
        "from imgaug import augmenters as iaa\n",
        "\n",
        "seq = iaa.Sometimes(0.8, iaa.SomeOf((3, None), [\n",
        "    iaa.AdditiveGaussianNoise(scale=(0.02*255, 0.10*255)),\n",
        "    iaa.Fliplr(),\n",
        "    iaa.GaussianBlur(sigma=(0.01, 1.5)),\n",
        "    iaa.Multiply((0.5, 1.5)),\n",
        "    iaa.CoarseDropout((0.01, 0.05), size_percent=(0.02, 0.05)),\n",
        "    iaa.Affine(rotate=(-30,30))\n",
        "], random_order=True))\n",
        "\n",
        "train_datagen = ImageDataGenerator(rescale= 1./255, preprocessing_function=seq.augment_image)\n",
        "\n",
        "train_generator = train_datagen.flow_from_directory( r'./tiny-imagenet-200/train/', target_size=(32, 32), color_mode='rgb', \n",
        "                                                    batch_size=128, class_mode='categorical', shuffle=True, seed=42)"
      ],
      "execution_count": 0,
      "outputs": [
        {
          "output_type": "stream",
          "text": [
            "Found 100000 images belonging to 200 classes.\n"
          ],
          "name": "stdout"
        }
      ]
    },
    {
      "cell_type": "code",
      "metadata": {
        "id": "28rLkJqnQ-1K",
        "colab_type": "code",
        "outputId": "27802760-4e08-40b5-e506-075d0114965b",
        "colab": {
          "base_uri": "https://localhost:8080/",
          "height": 706
        }
      },
      "source": [
        "filepath = \"/content/gdrive/My Drive/weights/asgn4-augment-epochs:{epoch:03d}-val_acc:{val_acc:.3f}.hdf5\"\n",
        "checkpoint = ModelCheckpoint(filepath, save_weights_only=True, verbose=1)\n",
        "reduce_lr = ReduceLROnPlateau(monitor='val_loss', factor=0.2,\n",
        "                              patience=2, min_lr=1e-6)\n",
        "model.fit_generator(train_generator, epochs=10, steps_per_epoch=400, validation_steps=40, validation_data=validation_generator, callbacks = [checkpoint, reduce_lr])"
      ],
      "execution_count": 0,
      "outputs": [
        {
          "output_type": "stream",
          "text": [
            "Epoch 1/10\n",
            "400/400 [==============================] - 323s 808ms/step - loss: 4.3715 - acc: 0.2121 - val_loss: 3.4825 - val_acc: 0.3732\n",
            "\n",
            "Epoch 00001: saving model to /content/gdrive/My Drive/weights/asgn4-augment-epochs:001-val_acc:0.373.hdf5\n",
            "Epoch 2/10\n",
            "400/400 [==============================] - 298s 745ms/step - loss: 3.6290 - acc: 0.2450 - val_loss: 3.5384 - val_acc: 0.3684\n",
            "\n",
            "Epoch 00002: saving model to /content/gdrive/My Drive/weights/asgn4-augment-epochs:002-val_acc:0.368.hdf5\n",
            "Epoch 3/10\n",
            "400/400 [==============================] - 297s 742ms/step - loss: 3.3065 - acc: 0.2849 - val_loss: 3.3931 - val_acc: 0.3616\n",
            "\n",
            "Epoch 00003: saving model to /content/gdrive/My Drive/weights/asgn4-augment-epochs:003-val_acc:0.362.hdf5\n",
            "Epoch 4/10\n",
            "400/400 [==============================] - 296s 740ms/step - loss: 3.1875 - acc: 0.3013 - val_loss: 3.1913 - val_acc: 0.3494\n",
            "\n",
            "Epoch 00004: saving model to /content/gdrive/My Drive/weights/asgn4-augment-epochs:004-val_acc:0.349.hdf5\n",
            "Epoch 5/10\n",
            "400/400 [==============================] - 297s 743ms/step - loss: 3.0245 - acc: 0.3248 - val_loss: 3.1391 - val_acc: 0.3544\n",
            "\n",
            "Epoch 00005: saving model to /content/gdrive/My Drive/weights/asgn4-augment-epochs:005-val_acc:0.354.hdf5\n",
            "Epoch 6/10\n",
            "400/400 [==============================] - 297s 742ms/step - loss: 2.9458 - acc: 0.3332 - val_loss: 3.0113 - val_acc: 0.3615\n",
            "\n",
            "Epoch 00006: saving model to /content/gdrive/My Drive/weights/asgn4-augment-epochs:006-val_acc:0.361.hdf5\n",
            "Epoch 7/10\n",
            "400/400 [==============================] - 297s 742ms/step - loss: 2.8585 - acc: 0.3498 - val_loss: 3.0511 - val_acc: 0.3572\n",
            "\n",
            "Epoch 00007: saving model to /content/gdrive/My Drive/weights/asgn4-augment-epochs:007-val_acc:0.357.hdf5\n",
            "Epoch 8/10\n",
            "400/400 [==============================] - 296s 741ms/step - loss: 2.8276 - acc: 0.3536 - val_loss: 2.9737 - val_acc: 0.3521\n",
            "\n",
            "Epoch 00008: saving model to /content/gdrive/My Drive/weights/asgn4-augment-epochs:008-val_acc:0.352.hdf5\n",
            "Epoch 9/10\n",
            "400/400 [==============================] - 297s 743ms/step - loss: 2.7524 - acc: 0.3648 - val_loss: 2.9355 - val_acc: 0.3558\n",
            "\n",
            "Epoch 00009: saving model to /content/gdrive/My Drive/weights/asgn4-augment-epochs:009-val_acc:0.356.hdf5\n",
            "Epoch 10/10\n",
            "400/400 [==============================] - 297s 741ms/step - loss: 2.6957 - acc: 0.3742 - val_loss: 3.0070 - val_acc: 0.3493\n",
            "\n",
            "Epoch 00010: saving model to /content/gdrive/My Drive/weights/asgn4-augment-epochs:010-val_acc:0.349.hdf5\n"
          ],
          "name": "stdout"
        },
        {
          "output_type": "execute_result",
          "data": {
            "text/plain": [
              "<keras.callbacks.History at 0x7f8c53147908>"
            ]
          },
          "metadata": {
            "tags": []
          },
          "execution_count": 43
        }
      ]
    },
    {
      "cell_type": "code",
      "metadata": {
        "id": "dQ7VgTh4hVSY",
        "colab_type": "code",
        "outputId": "062c48f3-e500-4156-fb65-b76f68a2ef8c",
        "colab": {
          "base_uri": "https://localhost:8080/",
          "height": 34
        }
      },
      "source": [
        "train_generator = train_datagen.flow_from_directory( r'./tiny-imagenet-200/train/', target_size=(48, 48), color_mode='rgb', \n",
        "                                                    batch_size=128, class_mode='categorical', shuffle=True, seed=42)"
      ],
      "execution_count": 0,
      "outputs": [
        {
          "output_type": "stream",
          "text": [
            "Found 100000 images belonging to 200 classes.\n"
          ],
          "name": "stdout"
        }
      ]
    },
    {
      "cell_type": "code",
      "metadata": {
        "id": "ko7rC1gchukl",
        "colab_type": "code",
        "outputId": "3a1cdfc8-546f-4fc1-fc9b-52a53251e20a",
        "colab": {
          "base_uri": "https://localhost:8080/",
          "height": 706
        }
      },
      "source": [
        "model.compile(loss='categorical_crossentropy',\n",
        "              optimizer=SGD(lr=0.01, momentum=0.7, nesterov=True),\n",
        "              metrics=['accuracy'])\n",
        "\n",
        "filepath = \"/content/gdrive/My Drive/weights/asgn4-augment-48-epochs:{epoch:03d}-val_acc:{val_acc:.3f}.hdf5\"\n",
        "checkpoint = ModelCheckpoint(filepath, save_weights_only=True, verbose=1)\n",
        "cyclic = CyclicLR(base_lr=1e-6, max_lr=0.01, step_size=2000, mode='exp_range')\n",
        "model.fit_generator(train_generator, epochs=10, steps_per_epoch=800, validation_steps=40, validation_data=validation_generator, callbacks = [checkpoint, cyclic])"
      ],
      "execution_count": 0,
      "outputs": [
        {
          "output_type": "stream",
          "text": [
            "Epoch 1/10\n",
            "800/800 [==============================] - 950s 1s/step - loss: 1.7859 - acc: 0.5555 - val_loss: 2.4977 - val_acc: 0.4892\n",
            "\n",
            "Epoch 00001: saving model to /content/gdrive/My Drive/weights/asgn4-augment-48-epochs:001-val_acc:0.489.hdf5\n",
            "Epoch 2/10\n",
            "800/800 [==============================] - 931s 1s/step - loss: 1.3729 - acc: 0.6452 - val_loss: 2.2770 - val_acc: 0.5061\n",
            "\n",
            "Epoch 00002: saving model to /content/gdrive/My Drive/weights/asgn4-augment-48-epochs:002-val_acc:0.506.hdf5\n",
            "Epoch 3/10\n",
            "800/800 [==============================] - 931s 1s/step - loss: 1.2605 - acc: 0.6706 - val_loss: 2.3374 - val_acc: 0.5105\n",
            "\n",
            "Epoch 00003: saving model to /content/gdrive/My Drive/weights/asgn4-augment-48-epochs:003-val_acc:0.510.hdf5\n",
            "Epoch 4/10\n",
            "800/800 [==============================] - 931s 1s/step - loss: 1.2176 - acc: 0.6809 - val_loss: 2.2346 - val_acc: 0.5198\n",
            "\n",
            "Epoch 00004: saving model to /content/gdrive/My Drive/weights/asgn4-augment-48-epochs:004-val_acc:0.520.hdf5\n",
            "Epoch 5/10\n",
            "800/800 [==============================] - 932s 1s/step - loss: 1.1716 - acc: 0.6913 - val_loss: 2.2723 - val_acc: 0.5204\n",
            "\n",
            "Epoch 00005: saving model to /content/gdrive/My Drive/weights/asgn4-augment-48-epochs:005-val_acc:0.520.hdf5\n",
            "Epoch 6/10\n",
            "800/800 [==============================] - 932s 1s/step - loss: 1.1615 - acc: 0.6943 - val_loss: 2.2473 - val_acc: 0.5181\n",
            "\n",
            "Epoch 00006: saving model to /content/gdrive/My Drive/weights/asgn4-augment-48-epochs:006-val_acc:0.518.hdf5\n",
            "Epoch 7/10\n",
            "800/800 [==============================] - 932s 1s/step - loss: 1.1533 - acc: 0.6959 - val_loss: 2.3012 - val_acc: 0.5140\n",
            "\n",
            "Epoch 00007: saving model to /content/gdrive/My Drive/weights/asgn4-augment-48-epochs:007-val_acc:0.514.hdf5\n",
            "Epoch 8/10\n",
            "800/800 [==============================] - 932s 1s/step - loss: 1.1490 - acc: 0.6973 - val_loss: 2.2679 - val_acc: 0.5168\n",
            "\n",
            "Epoch 00008: saving model to /content/gdrive/My Drive/weights/asgn4-augment-48-epochs:008-val_acc:0.517.hdf5\n",
            "Epoch 9/10\n",
            "800/800 [==============================] - 932s 1s/step - loss: 1.1106 - acc: 0.7083 - val_loss: 2.2376 - val_acc: 0.5222\n",
            "\n",
            "Epoch 00009: saving model to /content/gdrive/My Drive/weights/asgn4-augment-48-epochs:009-val_acc:0.522.hdf5\n",
            "Epoch 10/10\n",
            "800/800 [==============================] - 932s 1s/step - loss: 1.0854 - acc: 0.7131 - val_loss: 2.2505 - val_acc: 0.5170\n",
            "\n",
            "Epoch 00010: saving model to /content/gdrive/My Drive/weights/asgn4-augment-48-epochs:010-val_acc:0.517.hdf5\n"
          ],
          "name": "stdout"
        },
        {
          "output_type": "execute_result",
          "data": {
            "text/plain": [
              "<keras.callbacks.History at 0x7f8c51b0b320>"
            ]
          },
          "metadata": {
            "tags": []
          },
          "execution_count": 47
        }
      ]
    },
    {
      "cell_type": "code",
      "metadata": {
        "id": "2xooMfZlp-Zv",
        "colab_type": "code",
        "colab": {}
      },
      "source": [
        "seq = iaa.Sometimes(0.8, iaa.SomeOf((3, None), [\n",
        "    iaa.AdditiveGaussianNoise(scale=(0.02*255, 0.10*255)), \n",
        "    iaa.Fliplr(),\n",
        "    iaa.GaussianBlur(sigma=(0.01, 1.5)),\n",
        "    iaa.Multiply((0.5, 1.5)),\n",
        "    iaa.CoarseDropout((0.01, 0.05), size_percent=(0.02, 0.05)),\n",
        "    iaa.Affine(rotate=(-30,30)),\n",
        "    iaa.Affine(scale=(0.25, 1.5))\n",
        "], random_order=True))"
      ],
      "execution_count": 0,
      "outputs": []
    },
    {
      "cell_type": "code",
      "metadata": {
        "id": "jCyX0BWSiriW",
        "colab_type": "code",
        "outputId": "67855291-d821-4ced-961f-4761a3c9fc3f",
        "colab": {
          "base_uri": "https://localhost:8080/",
          "height": 34
        }
      },
      "source": [
        "train_datagen = ImageDataGenerator(rescale= 1./255, preprocessing_function=seq.augment_image)\n",
        "\n",
        "train_generator = train_datagen.flow_from_directory( r'./tiny-imagenet-200/train/', target_size=(64, 64), color_mode='rgb', \n",
        "                                                    batch_size=128, class_mode='categorical', shuffle=True, seed=42)"
      ],
      "execution_count": 0,
      "outputs": [
        {
          "output_type": "stream",
          "text": [
            "Found 100000 images belonging to 200 classes.\n"
          ],
          "name": "stdout"
        }
      ]
    },
    {
      "cell_type": "code",
      "metadata": {
        "id": "urG5lW6zi1Zw",
        "colab_type": "code",
        "outputId": "f4f63ffa-7ebd-4325-e238-35a580086ddc",
        "colab": {
          "base_uri": "https://localhost:8080/",
          "height": 370
        }
      },
      "source": [
        "model.compile(loss='categorical_crossentropy',\n",
        "              optimizer=SGD(lr=0.01, momentum=0.7, nesterov=True),\n",
        "              metrics=['accuracy'])\n",
        "\n",
        "filepath = \"/content/gdrive/My Drive/weights/asgn4-augment-64-after-size-augment-64-epochs:{epoch:03d}-val_acc:{val_acc:.3f}.hdf5\"\n",
        "checkpoint = ModelCheckpoint(filepath, save_weights_only=True, verbose=1)\n",
        "cyclic = CyclicLR(base_lr=1e-6, max_lr=0.01, step_size=2000, mode='exp_range')\n",
        "model.fit_generator(train_generator, epochs=5, steps_per_epoch=800, validation_steps=40, validation_data=validation_generator, callbacks = [checkpoint, cyclic])"
      ],
      "execution_count": 0,
      "outputs": [
        {
          "output_type": "stream",
          "text": [
            "Epoch 1/5\n",
            "800/800 [==============================] - 1611s 2s/step - loss: 1.7249 - acc: 0.6206 - val_loss: 2.2104 - val_acc: 0.5342\n",
            "\n",
            "Epoch 00001: saving model to /content/gdrive/My Drive/weights/asgn4-augment-64-after-size-augment-64-epochs:001-val_acc:0.534.hdf5\n",
            "Epoch 2/5\n",
            "800/800 [==============================] - 1581s 2s/step - loss: 1.4577 - acc: 0.6596 - val_loss: 2.1989 - val_acc: 0.5364\n",
            "\n",
            "Epoch 00002: saving model to /content/gdrive/My Drive/weights/asgn4-augment-64-after-size-augment-64-epochs:002-val_acc:0.536.hdf5\n",
            "Epoch 3/5\n",
            "800/800 [==============================] - 1579s 2s/step - loss: 1.3767 - acc: 0.6737 - val_loss: 2.2356 - val_acc: 0.5382\n",
            "\n",
            "Epoch 00003: saving model to /content/gdrive/My Drive/weights/asgn4-augment-64-after-size-augment-64-epochs:003-val_acc:0.538.hdf5\n",
            "Epoch 4/5\n",
            "800/800 [==============================] - 1581s 2s/step - loss: 1.3603 - acc: 0.6766 - val_loss: 2.2319 - val_acc: 0.5411\n",
            "\n",
            "Epoch 00004: saving model to /content/gdrive/My Drive/weights/asgn4-augment-64-after-size-augment-64-epochs:004-val_acc:0.541.hdf5\n",
            "Epoch 5/5\n",
            "800/800 [==============================] - 1579s 2s/step - loss: 1.3307 - acc: 0.6828 - val_loss: 2.2179 - val_acc: 0.5460\n",
            "\n",
            "Epoch 00005: saving model to /content/gdrive/My Drive/weights/asgn4-augment-64-after-size-augment-64-epochs:005-val_acc:0.546.hdf5\n"
          ],
          "name": "stdout"
        },
        {
          "output_type": "execute_result",
          "data": {
            "text/plain": [
              "<keras.callbacks.History at 0x7f8c51b0b7f0>"
            ]
          },
          "metadata": {
            "tags": []
          },
          "execution_count": 50
        }
      ]
    },
    {
      "cell_type": "code",
      "metadata": {
        "id": "MfJNpkAgwges",
        "colab_type": "code",
        "colab": {}
      },
      "source": [
        "model.load_weights('/content/gdrive/My Drive/weights/asgn4-augment-64-after-size-augment-64-epochs:005-val_acc:0.546.hdf5')"
      ],
      "execution_count": 0,
      "outputs": []
    },
    {
      "cell_type": "code",
      "metadata": {
        "id": "1WiGuTAUuZqD",
        "colab_type": "code",
        "colab": {}
      },
      "source": [
        "model.compile(loss='categorical_crossentropy',\n",
        "              optimizer=SGD(lr=0.01, momentum=0.7, nesterov=True),\n",
        "              metrics=['accuracy'])"
      ],
      "execution_count": 0,
      "outputs": []
    },
    {
      "cell_type": "code",
      "metadata": {
        "id": "0B_gwZdJwzDi",
        "colab_type": "code",
        "colab": {}
      },
      "source": [
        "seq = iaa.Sometimes(0.8, iaa.SomeOf((3, None), [ # apply 3 or more augmentations at once on 80% of the training images\n",
        "    iaa.AdditiveGaussianNoise(scale=(0.02*255, 0.10*255)), # gaussian salt and pepper noise \n",
        "    iaa.Fliplr(), # left-right flipping\n",
        "    iaa.GaussianBlur(sigma=(0.01, 1.5)), # blurring effect\n",
        "    iaa.Multiply((0.5, 1.5)), # emulate day-night lighting\n",
        "    iaa.CoarseDropout((0.01, 0.05), size_percent=(0.02, 0.05)), # occluding parts of image for forcing to learn scene\n",
        "    iaa.Affine(rotate=(-30,30)), # rotate image in the range -30 to +30 degrees\n",
        "    iaa.Affine(scale=(0.25, 1.5)) # scale image from 0.25 to 1.5 times the original size\n",
        "], random_order=True)) # apply augmentations in random order"
      ],
      "execution_count": 0,
      "outputs": []
    },
    {
      "cell_type": "code",
      "metadata": {
        "id": "w0a8R4_wvDtA",
        "colab_type": "code",
        "outputId": "f0452ef6-a622-4e46-b98b-7882f9e71d5b",
        "colab": {
          "base_uri": "https://localhost:8080/",
          "height": 34
        }
      },
      "source": [
        "train_datagen = ImageDataGenerator(rescale= 1./255, preprocessing_function=seq.augment_image)\n",
        "train_generator = train_datagen.flow_from_directory( r'./tiny-imagenet-200/train/', target_size=(64, 64), color_mode='rgb', \n",
        "                                                    batch_size=128, class_mode='categorical', shuffle=True, seed=42)"
      ],
      "execution_count": 0,
      "outputs": [
        {
          "output_type": "stream",
          "text": [
            "Found 100000 images belonging to 200 classes.\n"
          ],
          "name": "stdout"
        }
      ]
    },
    {
      "cell_type": "code",
      "metadata": {
        "id": "BLLJ7WN1uoxn",
        "colab_type": "code",
        "outputId": "cb5cce32-a729-4bf0-9a00-04bf3f28c5e0",
        "colab": {
          "base_uri": "https://localhost:8080/",
          "height": 445
        }
      },
      "source": [
        "filepath = \"/content/gdrive/My Drive/weights/asgn4-augment-64-after-size-augment-64-epochs:{epoch:03d}-val_acc:{val_acc:.3f}.hdf5\"\n",
        "checkpoint = ModelCheckpoint(filepath, save_weights_only=True, verbose=1)\n",
        "cyclic = CyclicLR(base_lr=1e-6, max_lr=0.01, step_size=2000, mode='exp_range')\n",
        "model.fit_generator(train_generator, epochs=5, steps_per_epoch=800, validation_steps=40, validation_data=validation_generator, callbacks = [checkpoint, cyclic])"
      ],
      "execution_count": 0,
      "outputs": [
        {
          "output_type": "stream",
          "text": [
            "WARNING:tensorflow:From /usr/local/lib/python3.6/dist-packages/tensorflow/python/ops/math_ops.py:3066: to_int32 (from tensorflow.python.ops.math_ops) is deprecated and will be removed in a future version.\n",
            "Instructions for updating:\n",
            "Use tf.cast instead.\n",
            "Epoch 1/5\n",
            "800/800 [==============================] - 1620s 2s/step - loss: 1.3224 - acc: 0.6856 - val_loss: 2.2305 - val_acc: 0.5442\n",
            "\n",
            "Epoch 00001: saving model to /content/gdrive/My Drive/weights/asgn4-augment-64-after-size-augment-64-epochs:001-val_acc:0.544.hdf5\n",
            "Epoch 2/5\n",
            "800/800 [==============================] - 1577s 2s/step - loss: 1.3074 - acc: 0.6876 - val_loss: 2.2339 - val_acc: 0.5446\n",
            "\n",
            "Epoch 00002: saving model to /content/gdrive/My Drive/weights/asgn4-augment-64-after-size-augment-64-epochs:002-val_acc:0.545.hdf5\n",
            "Epoch 3/5\n",
            "800/800 [==============================] - 1576s 2s/step - loss: 1.3072 - acc: 0.6883 - val_loss: 2.2418 - val_acc: 0.5425\n",
            "\n",
            "Epoch 00003: saving model to /content/gdrive/My Drive/weights/asgn4-augment-64-after-size-augment-64-epochs:003-val_acc:0.542.hdf5\n",
            "Epoch 4/5\n",
            "800/800 [==============================] - 1574s 2s/step - loss: 1.2965 - acc: 0.6896 - val_loss: 2.2335 - val_acc: 0.5457\n",
            "\n",
            "Epoch 00004: saving model to /content/gdrive/My Drive/weights/asgn4-augment-64-after-size-augment-64-epochs:004-val_acc:0.546.hdf5\n",
            "Epoch 5/5\n",
            "800/800 [==============================] - 1575s 2s/step - loss: 1.2717 - acc: 0.6955 - val_loss: 2.2233 - val_acc: 0.5476\n",
            "\n",
            "Epoch 00005: saving model to /content/gdrive/My Drive/weights/asgn4-augment-64-after-size-augment-64-epochs:005-val_acc:0.548.hdf5\n"
          ],
          "name": "stdout"
        },
        {
          "output_type": "execute_result",
          "data": {
            "text/plain": [
              "<keras.callbacks.History at 0x7f4275e6ee48>"
            ]
          },
          "metadata": {
            "tags": []
          },
          "execution_count": 17
        }
      ]
    },
    {
      "cell_type": "code",
      "metadata": {
        "id": "ib5vhywQXj-0",
        "colab_type": "code",
        "colab": {}
      },
      "source": [
        "model.load_weights('/content/gdrive/My Drive/weights/asgn4-augment-64-after-size-augment-64-epochs:005-val_acc:0.548.hdf5')"
      ],
      "execution_count": 0,
      "outputs": []
    },
    {
      "cell_type": "code",
      "metadata": {
        "id": "CR7fKybQSsS8",
        "colab_type": "code",
        "outputId": "72dbcf06-21b9-4938-ce35-9d68befffa95",
        "colab": {
          "base_uri": "https://localhost:8080/",
          "height": 68
        }
      },
      "source": [
        "validation_generator = valid_datagen.flow_from_dataframe(val_data, directory='./tiny-imagenet-200/val/images/', x_col='File', y_col='Class', target_size=(64, 64),\n",
        "                                                    color_mode='rgb', class_mode='categorical', batch_size=256, shuffle=False, seed=42)\n",
        "predictions = model.predict_generator(validation_generator, steps=40)\n",
        "y_test = validation_generator.classes\n",
        "y_pred = np.argmax(predictions, axis=-1)\n",
        "print(len(y_test))\n",
        "print(len(y_pred))"
      ],
      "execution_count": 0,
      "outputs": [
        {
          "output_type": "stream",
          "text": [
            "Found 10000 images belonging to 200 classes.\n",
            "10000\n",
            "10000\n"
          ],
          "name": "stdout"
        }
      ]
    },
    {
      "cell_type": "code",
      "metadata": {
        "id": "7qhfDiRelxqB",
        "colab_type": "code",
        "outputId": "ceb4973c-f31a-4ecb-c966-8db77ea52942",
        "colab": {
          "base_uri": "https://localhost:8080/",
          "height": 71
        }
      },
      "source": [
        "count = [0]*200\n",
        "\n",
        "for i in range(len(y_test)):\n",
        "  if(y_pred[i]!=y_test[i]):\n",
        "    count[y_test[i]] +=1\n",
        "    \n",
        "print(np.sum(count))\n",
        "count = count/np.sum(count)\n",
        "class_weight = {k: v*1000 for k, v in enumerate(count)}\n",
        "\n",
        "print(class_weight)"
      ],
      "execution_count": 0,
      "outputs": [
        {
          "output_type": "stream",
          "text": [
            "4524\n",
            "{0: 2.2104332449160036, 1: 2.8735632183908044, 2: 5.526083112290009, 3: 6.631299734748011, 4: 5.083996463306808, 5: 6.852343059239611, 6: 3.5366931918656053, 7: 6.18921308576481, 8: 2.6525198938992043, 9: 5.526083112290009, 10: 6.41025641025641, 11: 4.420866489832007, 12: 3.9787798408488064, 13: 2.2104332449160036, 14: 3.9787798408488064, 15: 5.747126436781609, 16: 7.0733863837312105, 17: 4.420866489832007, 18: 5.747126436781609, 19: 3.5366931918656053, 20: 2.2104332449160036, 21: 3.3156498673740056, 22: 2.431476569407604, 23: 1.9893899204244032, 24: 7.0733863837312105, 25: 2.8735632183908044, 26: 3.9787798408488064, 27: 6.852343059239611, 28: 5.526083112290009, 29: 7.736516357206013, 30: 6.18921308576481, 31: 4.862953138815208, 32: 7.0733863837312105, 33: 5.083996463306808, 34: 4.420866489832007, 35: 3.757736516357206, 36: 3.094606542882405, 37: 3.5366931918656053, 38: 4.641909814323608, 39: 4.862953138815208, 40: 6.631299734748011, 41: 6.18921308576481, 42: 6.41025641025641, 43: 4.641909814323608, 44: 1.1052166224580018, 45: 2.431476569407604, 46: 6.631299734748011, 47: 5.083996463306808, 48: 6.852343059239611, 49: 6.18921308576481, 50: 2.8735632183908044, 51: 4.420866489832007, 52: 2.2104332449160036, 53: 4.641909814323608, 54: 3.9787798408488064, 55: 3.094606542882405, 56: 4.199823165340407, 57: 3.757736516357206, 58: 3.3156498673740056, 59: 5.305039787798409, 60: 4.641909814323608, 61: 4.420866489832007, 62: 7.515473032714412, 63: 5.747126436781609, 64: 6.852343059239611, 65: 7.0733863837312105, 66: 4.199823165340407, 67: 7.294429708222812, 68: 4.862953138815208, 69: 5.747126436781609, 70: 5.968169761273209, 71: 2.431476569407604, 72: 5.526083112290009, 73: 5.305039787798409, 74: 5.526083112290009, 75: 5.526083112290009, 76: 6.18921308576481, 77: 7.957559681697613, 78: 2.431476569407604, 79: 7.736516357206013, 80: 8.399646330680813, 81: 1.7683465959328026, 82: 5.747126436781609, 83: 5.968169761273209, 84: 7.0733863837312105, 85: 6.852343059239611, 86: 4.420866489832007, 87: 5.968169761273209, 88: 6.631299734748011, 89: 5.083996463306808, 90: 3.757736516357206, 91: 4.641909814323608, 92: 5.968169761273209, 93: 4.862953138815208, 94: 4.420866489832007, 95: 4.862953138815208, 96: 5.083996463306808, 97: 5.305039787798409, 98: 3.5366931918656053, 99: 7.957559681697613, 100: 8.178603006189213, 101: 4.199823165340407, 102: 4.420866489832007, 103: 2.2104332449160036, 104: 5.526083112290009, 105: 5.968169761273209, 106: 5.968169761273209, 107: 2.431476569407604, 108: 2.431476569407604, 109: 3.094606542882405, 110: 6.41025641025641, 111: 3.9787798408488064, 112: 7.294429708222812, 113: 5.083996463306808, 114: 5.968169761273209, 115: 2.431476569407604, 116: 6.41025641025641, 117: 3.9787798408488064, 118: 3.094606542882405, 119: 6.852343059239611, 120: 5.968169761273209, 121: 4.420866489832007, 122: 8.178603006189213, 123: 5.747126436781609, 124: 2.431476569407604, 125: 6.41025641025641, 126: 3.5366931918656053, 127: 4.199823165340407, 128: 5.526083112290009, 129: 3.5366931918656053, 130: 5.083996463306808, 131: 9.283819628647215, 132: 8.620689655172413, 133: 1.9893899204244032, 134: 5.083996463306808, 135: 7.957559681697613, 136: 4.641909814323608, 137: 6.631299734748011, 138: 8.841732979664014, 139: 7.736516357206013, 140: 5.083996463306808, 141: 6.18921308576481, 142: 5.747126436781609, 143: 1.9893899204244032, 144: 4.199823165340407, 145: 1.1052166224580018, 146: 2.8735632183908044, 147: 5.968169761273209, 148: 5.083996463306808, 149: 4.420866489832007, 150: 5.526083112290009, 151: 5.747126436781609, 152: 3.9787798408488064, 153: 3.757736516357206, 154: 4.641909814323608, 155: 3.757736516357206, 156: 5.747126436781609, 157: 5.526083112290009, 158: 5.747126436781609, 159: 9.283819628647215, 160: 5.305039787798409, 161: 3.9787798408488064, 162: 3.757736516357206, 163: 4.420866489832007, 164: 3.9787798408488064, 165: 1.7683465959328026, 166: 1.3262599469496021, 167: 5.747126436781609, 168: 7.515473032714412, 169: 5.968169761273209, 170: 4.199823165340407, 171: 3.5366931918656053, 172: 7.957559681697613, 173: 2.2104332449160036, 174: 5.305039787798409, 175: 9.504862953138815, 176: 3.3156498673740056, 177: 5.968169761273209, 178: 3.9787798408488064, 179: 7.294429708222812, 180: 8.620689655172413, 181: 4.862953138815208, 182: 7.294429708222812, 183: 5.526083112290009, 184: 3.5366931918656053, 185: 3.9787798408488064, 186: 4.862953138815208, 187: 3.757736516357206, 188: 5.305039787798409, 189: 2.8735632183908044, 190: 6.631299734748011, 191: 3.094606542882405, 192: 4.641909814323608, 193: 2.2104332449160036, 194: 3.757736516357206, 195: 5.526083112290009, 196: 4.199823165340407, 197: 5.747126436781609, 198: 5.305039787798409, 199: 5.747126436781609}\n"
          ],
          "name": "stdout"
        }
      ]
    },
    {
      "cell_type": "code",
      "metadata": {
        "id": "jRTclB5wQnGF",
        "colab_type": "code",
        "colab": {}
      },
      "source": [
        "seq = iaa.Sometimes(0.8, iaa.SomeOf((3, None), [ # apply 3 or more augmentations at once on 80% of the training images\n",
        "    iaa.AdditiveGaussianNoise(scale=(0.02*255, 0.10*255)), # gaussian salt and pepper noise \n",
        "    iaa.Fliplr(), # left-right flipping\n",
        "    iaa.GaussianBlur(sigma=(0.01, 1.5)), # blurring effect\n",
        "    iaa.Multiply((0.5, 1.5)), # emulate day-night lighting\n",
        "    iaa.CoarseDropout((0.01, 0.05), size_percent=(0.02, 0.05)), # occluding parts of image for forcing to learn scene\n",
        "    iaa.Affine(rotate=(-30,30)), # rotate image in the range -30 to +30 degrees\n",
        "    iaa.Affine(scale=(0.25, 1.5)) # scale image from 0.25 to 1.5 times the original size\n",
        "], random_order=True)) # apply augmentations in random order"
      ],
      "execution_count": 0,
      "outputs": []
    },
    {
      "cell_type": "code",
      "metadata": {
        "id": "i73SDVbTQu9N",
        "colab_type": "code",
        "outputId": "d8e242f7-aa85-44e8-86fa-3d5deaf7c75b",
        "colab": {
          "base_uri": "https://localhost:8080/",
          "height": 34
        }
      },
      "source": [
        "train_datagen = ImageDataGenerator(rescale= 1./255, preprocessing_function=seq.augment_image)\n",
        "train_generator = train_datagen.flow_from_directory( r'./tiny-imagenet-200/train/', target_size=(64, 64), color_mode='rgb', \n",
        "                                                    batch_size=128, class_mode='categorical', shuffle=True, seed=42)"
      ],
      "execution_count": 0,
      "outputs": [
        {
          "output_type": "stream",
          "text": [
            "Found 100000 images belonging to 200 classes.\n"
          ],
          "name": "stdout"
        }
      ]
    },
    {
      "cell_type": "code",
      "metadata": {
        "id": "m0LoSI72M8je",
        "colab_type": "code",
        "outputId": "0d87552a-8e74-46e7-b985-8c90cb64ca59",
        "colab": {
          "base_uri": "https://localhost:8080/",
          "height": 1407
        }
      },
      "source": [
        "model.compile(loss='categorical_crossentropy',\n",
        "              optimizer=SGD(lr=0.01, momentum=0.7, nesterov=True),\n",
        "              metrics=['accuracy'])\n",
        "filepath = \"/content/gdrive/My Drive/weights/asgn4-augment-64-after-negative-hard-epochs:{epoch:03d}-val_acc:{val_acc:.3f}.hdf5\"\n",
        "checkpoint = ModelCheckpoint(filepath, save_weights_only=True, verbose=1)\n",
        "cyclic = CyclicLR(base_lr=1e-6, max_lr=0.01, step_size=4000, mode='exp_range')\n",
        "model.fit_generator(train_generator, epochs=10, steps_per_epoch=800, validation_steps=40, validation_data=validation_generator, callbacks = [checkpoint, cyclic],\n",
        "                   class_weight=class_weight)"
      ],
      "execution_count": 0,
      "outputs": [
        {
          "output_type": "stream",
          "text": [
            "WARNING:tensorflow:From /usr/local/lib/python3.6/dist-packages/tensorflow/python/ops/math_ops.py:3066: to_int32 (from tensorflow.python.ops.math_ops) is deprecated and will be removed in a future version.\n",
            "Instructions for updating:\n",
            "Use tf.cast instead.\n",
            "Epoch 1/10\n",
            "800/800 [==============================] - 1698s 2s/step - loss: 6.8078 - acc: 0.6904 - val_loss: 2.2336 - val_acc: 0.5421\n",
            "\n",
            "Epoch 00001: saving model to /content/gdrive/My Drive/weights/asgn4-augment-64-after-negative-hard-epochs:001-val_acc:0.542.hdf5\n",
            "Epoch 2/10\n",
            "800/800 [==============================] - 1666s 2s/step - loss: 6.6130 - acc: 0.6937 - val_loss: 2.2803 - val_acc: 0.5385\n",
            "\n",
            "Epoch 00002: saving model to /content/gdrive/My Drive/weights/asgn4-augment-64-after-negative-hard-epochs:002-val_acc:0.538.hdf5\n",
            "Epoch 3/10\n",
            "800/800 [==============================] - 1666s 2s/step - loss: 6.6342 - acc: 0.6922 - val_loss: 2.3286 - val_acc: 0.5304\n",
            "\n",
            "Epoch 00003: saving model to /content/gdrive/My Drive/weights/asgn4-augment-64-after-negative-hard-epochs:003-val_acc:0.530.hdf5\n",
            "Epoch 4/10\n",
            "800/800 [==============================] - 1667s 2s/step - loss: 6.7447 - acc: 0.6848 - val_loss: 2.3465 - val_acc: 0.5279\n",
            "\n",
            "Epoch 00004: saving model to /content/gdrive/My Drive/weights/asgn4-augment-64-after-negative-hard-epochs:004-val_acc:0.528.hdf5\n",
            "Epoch 5/10\n",
            " 12/800 [..............................] - ETA: 26:27 - loss: 6.4184 - acc: 0.6816"
          ],
          "name": "stdout"
        },
        {
          "output_type": "error",
          "ename": "KeyboardInterrupt",
          "evalue": "ignored",
          "traceback": [
            "\u001b[0;31m---------------------------------------------------------------------------\u001b[0m",
            "\u001b[0;31mKeyboardInterrupt\u001b[0m                         Traceback (most recent call last)",
            "\u001b[0;32m<ipython-input-18-39a8b8f746cb>\u001b[0m in \u001b[0;36m<module>\u001b[0;34m()\u001b[0m\n\u001b[1;32m      6\u001b[0m \u001b[0mcyclic\u001b[0m \u001b[0;34m=\u001b[0m \u001b[0mCyclicLR\u001b[0m\u001b[0;34m(\u001b[0m\u001b[0mbase_lr\u001b[0m\u001b[0;34m=\u001b[0m\u001b[0;36m1e-6\u001b[0m\u001b[0;34m,\u001b[0m \u001b[0mmax_lr\u001b[0m\u001b[0;34m=\u001b[0m\u001b[0;36m0.01\u001b[0m\u001b[0;34m,\u001b[0m \u001b[0mstep_size\u001b[0m\u001b[0;34m=\u001b[0m\u001b[0;36m4000\u001b[0m\u001b[0;34m,\u001b[0m \u001b[0mmode\u001b[0m\u001b[0;34m=\u001b[0m\u001b[0;34m'exp_range'\u001b[0m\u001b[0;34m)\u001b[0m\u001b[0;34m\u001b[0m\u001b[0;34m\u001b[0m\u001b[0m\n\u001b[1;32m      7\u001b[0m model.fit_generator(train_generator, epochs=10, steps_per_epoch=800, validation_steps=40, validation_data=validation_generator, callbacks = [checkpoint, cyclic],\n\u001b[0;32m----> 8\u001b[0;31m                    class_weight=class_weight)\n\u001b[0m",
            "\u001b[0;32m/usr/local/lib/python3.6/dist-packages/keras/legacy/interfaces.py\u001b[0m in \u001b[0;36mwrapper\u001b[0;34m(*args, **kwargs)\u001b[0m\n\u001b[1;32m     89\u001b[0m                 warnings.warn('Update your `' + object_name + '` call to the ' +\n\u001b[1;32m     90\u001b[0m                               'Keras 2 API: ' + signature, stacklevel=2)\n\u001b[0;32m---> 91\u001b[0;31m             \u001b[0;32mreturn\u001b[0m \u001b[0mfunc\u001b[0m\u001b[0;34m(\u001b[0m\u001b[0;34m*\u001b[0m\u001b[0margs\u001b[0m\u001b[0;34m,\u001b[0m \u001b[0;34m**\u001b[0m\u001b[0mkwargs\u001b[0m\u001b[0;34m)\u001b[0m\u001b[0;34m\u001b[0m\u001b[0;34m\u001b[0m\u001b[0m\n\u001b[0m\u001b[1;32m     92\u001b[0m         \u001b[0mwrapper\u001b[0m\u001b[0;34m.\u001b[0m\u001b[0m_original_function\u001b[0m \u001b[0;34m=\u001b[0m \u001b[0mfunc\u001b[0m\u001b[0;34m\u001b[0m\u001b[0;34m\u001b[0m\u001b[0m\n\u001b[1;32m     93\u001b[0m         \u001b[0;32mreturn\u001b[0m \u001b[0mwrapper\u001b[0m\u001b[0;34m\u001b[0m\u001b[0;34m\u001b[0m\u001b[0m\n",
            "\u001b[0;32m/usr/local/lib/python3.6/dist-packages/keras/engine/training.py\u001b[0m in \u001b[0;36mfit_generator\u001b[0;34m(self, generator, steps_per_epoch, epochs, verbose, callbacks, validation_data, validation_steps, class_weight, max_queue_size, workers, use_multiprocessing, shuffle, initial_epoch)\u001b[0m\n\u001b[1;32m   1416\u001b[0m             \u001b[0muse_multiprocessing\u001b[0m\u001b[0;34m=\u001b[0m\u001b[0muse_multiprocessing\u001b[0m\u001b[0;34m,\u001b[0m\u001b[0;34m\u001b[0m\u001b[0;34m\u001b[0m\u001b[0m\n\u001b[1;32m   1417\u001b[0m             \u001b[0mshuffle\u001b[0m\u001b[0;34m=\u001b[0m\u001b[0mshuffle\u001b[0m\u001b[0;34m,\u001b[0m\u001b[0;34m\u001b[0m\u001b[0;34m\u001b[0m\u001b[0m\n\u001b[0;32m-> 1418\u001b[0;31m             initial_epoch=initial_epoch)\n\u001b[0m\u001b[1;32m   1419\u001b[0m \u001b[0;34m\u001b[0m\u001b[0m\n\u001b[1;32m   1420\u001b[0m     \u001b[0;34m@\u001b[0m\u001b[0minterfaces\u001b[0m\u001b[0;34m.\u001b[0m\u001b[0mlegacy_generator_methods_support\u001b[0m\u001b[0;34m\u001b[0m\u001b[0;34m\u001b[0m\u001b[0m\n",
            "\u001b[0;32m/usr/local/lib/python3.6/dist-packages/keras/engine/training_generator.py\u001b[0m in \u001b[0;36mfit_generator\u001b[0;34m(model, generator, steps_per_epoch, epochs, verbose, callbacks, validation_data, validation_steps, class_weight, max_queue_size, workers, use_multiprocessing, shuffle, initial_epoch)\u001b[0m\n\u001b[1;32m    215\u001b[0m                 outs = model.train_on_batch(x, y,\n\u001b[1;32m    216\u001b[0m                                             \u001b[0msample_weight\u001b[0m\u001b[0;34m=\u001b[0m\u001b[0msample_weight\u001b[0m\u001b[0;34m,\u001b[0m\u001b[0;34m\u001b[0m\u001b[0;34m\u001b[0m\u001b[0m\n\u001b[0;32m--> 217\u001b[0;31m                                             class_weight=class_weight)\n\u001b[0m\u001b[1;32m    218\u001b[0m \u001b[0;34m\u001b[0m\u001b[0m\n\u001b[1;32m    219\u001b[0m                 \u001b[0mouts\u001b[0m \u001b[0;34m=\u001b[0m \u001b[0mto_list\u001b[0m\u001b[0;34m(\u001b[0m\u001b[0mouts\u001b[0m\u001b[0;34m)\u001b[0m\u001b[0;34m\u001b[0m\u001b[0;34m\u001b[0m\u001b[0m\n",
            "\u001b[0;32m/usr/local/lib/python3.6/dist-packages/keras/engine/training.py\u001b[0m in \u001b[0;36mtrain_on_batch\u001b[0;34m(self, x, y, sample_weight, class_weight)\u001b[0m\n\u001b[1;32m   1215\u001b[0m             \u001b[0mins\u001b[0m \u001b[0;34m=\u001b[0m \u001b[0mx\u001b[0m \u001b[0;34m+\u001b[0m \u001b[0my\u001b[0m \u001b[0;34m+\u001b[0m \u001b[0msample_weights\u001b[0m\u001b[0;34m\u001b[0m\u001b[0;34m\u001b[0m\u001b[0m\n\u001b[1;32m   1216\u001b[0m         \u001b[0mself\u001b[0m\u001b[0;34m.\u001b[0m\u001b[0m_make_train_function\u001b[0m\u001b[0;34m(\u001b[0m\u001b[0;34m)\u001b[0m\u001b[0;34m\u001b[0m\u001b[0;34m\u001b[0m\u001b[0m\n\u001b[0;32m-> 1217\u001b[0;31m         \u001b[0moutputs\u001b[0m \u001b[0;34m=\u001b[0m \u001b[0mself\u001b[0m\u001b[0;34m.\u001b[0m\u001b[0mtrain_function\u001b[0m\u001b[0;34m(\u001b[0m\u001b[0mins\u001b[0m\u001b[0;34m)\u001b[0m\u001b[0;34m\u001b[0m\u001b[0;34m\u001b[0m\u001b[0m\n\u001b[0m\u001b[1;32m   1218\u001b[0m         \u001b[0;32mreturn\u001b[0m \u001b[0munpack_singleton\u001b[0m\u001b[0;34m(\u001b[0m\u001b[0moutputs\u001b[0m\u001b[0;34m)\u001b[0m\u001b[0;34m\u001b[0m\u001b[0;34m\u001b[0m\u001b[0m\n\u001b[1;32m   1219\u001b[0m \u001b[0;34m\u001b[0m\u001b[0m\n",
            "\u001b[0;32m/usr/local/lib/python3.6/dist-packages/keras/backend/tensorflow_backend.py\u001b[0m in \u001b[0;36m__call__\u001b[0;34m(self, inputs)\u001b[0m\n\u001b[1;32m   2713\u001b[0m                 \u001b[0;32mreturn\u001b[0m \u001b[0mself\u001b[0m\u001b[0;34m.\u001b[0m\u001b[0m_legacy_call\u001b[0m\u001b[0;34m(\u001b[0m\u001b[0minputs\u001b[0m\u001b[0;34m)\u001b[0m\u001b[0;34m\u001b[0m\u001b[0;34m\u001b[0m\u001b[0m\n\u001b[1;32m   2714\u001b[0m \u001b[0;34m\u001b[0m\u001b[0m\n\u001b[0;32m-> 2715\u001b[0;31m             \u001b[0;32mreturn\u001b[0m \u001b[0mself\u001b[0m\u001b[0;34m.\u001b[0m\u001b[0m_call\u001b[0m\u001b[0;34m(\u001b[0m\u001b[0minputs\u001b[0m\u001b[0;34m)\u001b[0m\u001b[0;34m\u001b[0m\u001b[0;34m\u001b[0m\u001b[0m\n\u001b[0m\u001b[1;32m   2716\u001b[0m         \u001b[0;32melse\u001b[0m\u001b[0;34m:\u001b[0m\u001b[0;34m\u001b[0m\u001b[0;34m\u001b[0m\u001b[0m\n\u001b[1;32m   2717\u001b[0m             \u001b[0;32mif\u001b[0m \u001b[0mpy_any\u001b[0m\u001b[0;34m(\u001b[0m\u001b[0mis_tensor\u001b[0m\u001b[0;34m(\u001b[0m\u001b[0mx\u001b[0m\u001b[0;34m)\u001b[0m \u001b[0;32mfor\u001b[0m \u001b[0mx\u001b[0m \u001b[0;32min\u001b[0m \u001b[0minputs\u001b[0m\u001b[0;34m)\u001b[0m\u001b[0;34m:\u001b[0m\u001b[0;34m\u001b[0m\u001b[0;34m\u001b[0m\u001b[0m\n",
            "\u001b[0;32m/usr/local/lib/python3.6/dist-packages/keras/backend/tensorflow_backend.py\u001b[0m in \u001b[0;36m_call\u001b[0;34m(self, inputs)\u001b[0m\n\u001b[1;32m   2673\u001b[0m             \u001b[0mfetched\u001b[0m \u001b[0;34m=\u001b[0m \u001b[0mself\u001b[0m\u001b[0;34m.\u001b[0m\u001b[0m_callable_fn\u001b[0m\u001b[0;34m(\u001b[0m\u001b[0;34m*\u001b[0m\u001b[0marray_vals\u001b[0m\u001b[0;34m,\u001b[0m \u001b[0mrun_metadata\u001b[0m\u001b[0;34m=\u001b[0m\u001b[0mself\u001b[0m\u001b[0;34m.\u001b[0m\u001b[0mrun_metadata\u001b[0m\u001b[0;34m)\u001b[0m\u001b[0;34m\u001b[0m\u001b[0;34m\u001b[0m\u001b[0m\n\u001b[1;32m   2674\u001b[0m         \u001b[0;32melse\u001b[0m\u001b[0;34m:\u001b[0m\u001b[0;34m\u001b[0m\u001b[0;34m\u001b[0m\u001b[0m\n\u001b[0;32m-> 2675\u001b[0;31m             \u001b[0mfetched\u001b[0m \u001b[0;34m=\u001b[0m \u001b[0mself\u001b[0m\u001b[0;34m.\u001b[0m\u001b[0m_callable_fn\u001b[0m\u001b[0;34m(\u001b[0m\u001b[0;34m*\u001b[0m\u001b[0marray_vals\u001b[0m\u001b[0;34m)\u001b[0m\u001b[0;34m\u001b[0m\u001b[0;34m\u001b[0m\u001b[0m\n\u001b[0m\u001b[1;32m   2676\u001b[0m         \u001b[0;32mreturn\u001b[0m \u001b[0mfetched\u001b[0m\u001b[0;34m[\u001b[0m\u001b[0;34m:\u001b[0m\u001b[0mlen\u001b[0m\u001b[0;34m(\u001b[0m\u001b[0mself\u001b[0m\u001b[0;34m.\u001b[0m\u001b[0moutputs\u001b[0m\u001b[0;34m)\u001b[0m\u001b[0;34m]\u001b[0m\u001b[0;34m\u001b[0m\u001b[0;34m\u001b[0m\u001b[0m\n\u001b[1;32m   2677\u001b[0m \u001b[0;34m\u001b[0m\u001b[0m\n",
            "\u001b[0;32m/usr/local/lib/python3.6/dist-packages/tensorflow/python/client/session.py\u001b[0m in \u001b[0;36m__call__\u001b[0;34m(self, *args, **kwargs)\u001b[0m\n\u001b[1;32m   1437\u001b[0m           ret = tf_session.TF_SessionRunCallable(\n\u001b[1;32m   1438\u001b[0m               \u001b[0mself\u001b[0m\u001b[0;34m.\u001b[0m\u001b[0m_session\u001b[0m\u001b[0;34m.\u001b[0m\u001b[0m_session\u001b[0m\u001b[0;34m,\u001b[0m \u001b[0mself\u001b[0m\u001b[0;34m.\u001b[0m\u001b[0m_handle\u001b[0m\u001b[0;34m,\u001b[0m \u001b[0margs\u001b[0m\u001b[0;34m,\u001b[0m \u001b[0mstatus\u001b[0m\u001b[0;34m,\u001b[0m\u001b[0;34m\u001b[0m\u001b[0;34m\u001b[0m\u001b[0m\n\u001b[0;32m-> 1439\u001b[0;31m               run_metadata_ptr)\n\u001b[0m\u001b[1;32m   1440\u001b[0m         \u001b[0;32mif\u001b[0m \u001b[0mrun_metadata\u001b[0m\u001b[0;34m:\u001b[0m\u001b[0;34m\u001b[0m\u001b[0;34m\u001b[0m\u001b[0m\n\u001b[1;32m   1441\u001b[0m           \u001b[0mproto_data\u001b[0m \u001b[0;34m=\u001b[0m \u001b[0mtf_session\u001b[0m\u001b[0;34m.\u001b[0m\u001b[0mTF_GetBuffer\u001b[0m\u001b[0;34m(\u001b[0m\u001b[0mrun_metadata_ptr\u001b[0m\u001b[0;34m)\u001b[0m\u001b[0;34m\u001b[0m\u001b[0;34m\u001b[0m\u001b[0m\n",
            "\u001b[0;31mKeyboardInterrupt\u001b[0m: "
          ]
        }
      ]
    },
    {
      "cell_type": "code",
      "metadata": {
        "id": "XR7gUsZbwjZt",
        "colab_type": "code",
        "outputId": "d8c0d08c-a69f-4f3c-8b77-20633563022a",
        "colab": {
          "base_uri": "https://localhost:8080/",
          "height": 33
        }
      },
      "source": [
        "x_batch, y_batch = next(train_generator)\n",
        "x_batch.shape"
      ],
      "execution_count": 0,
      "outputs": [
        {
          "output_type": "execute_result",
          "data": {
            "text/plain": [
              "(500, 64, 64, 3)"
            ]
          },
          "metadata": {
            "tags": []
          },
          "execution_count": 29
        }
      ]
    },
    {
      "cell_type": "code",
      "metadata": {
        "id": "szJgQHlxFIEM",
        "colab_type": "code",
        "outputId": "8eafa129-50af-43ff-f207-d5cdaad7022e",
        "colab": {
          "base_uri": "https://localhost:8080/",
          "height": 323
        }
      },
      "source": [
        "# Plot Generator images.\n",
        "\n",
        "fig = plt.figure(figsize=(14, 5))\n",
        "\n",
        "for i in range(8):\n",
        "    sub = fig.add_subplot(2, 4, i + 1)\n",
        "    sub.imshow(x_batch[i,:,:], interpolation='nearest')"
      ],
      "execution_count": 0,
      "outputs": [
        {
          "output_type": "display_data",
          "data": {
            "image/png": "[encoded data removed]",
            "text/plain": [
              "<Figure size 1008x360 with 8 Axes>"
            ]
          },
          "metadata": {
            "tags": []
          }
        }
      ]
    },
    {
      "cell_type": "code",
      "metadata": {
        "id": "Nyar_t3egY5r",
        "colab_type": "code",
        "colab": {}
      },
      "source": [
        ""
      ],
      "execution_count": 0,
      "outputs": []
    }
  ]
}